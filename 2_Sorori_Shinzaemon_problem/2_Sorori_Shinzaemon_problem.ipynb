{
 "cells": [
  {
   "cell_type": "markdown",
   "id": "ff42c9ca-37f4-44d7-8d55-e7c9bb232428",
   "metadata": {},
   "source": [
    "# 【Problem 1] Number of grains of rice on the 100th day"
   ]
  },
  {
   "cell_type": "code",
   "execution_count": 3,
   "id": "3df6fc56-9f78-4a30-9e53-1e35237550d5",
   "metadata": {},
   "outputs": [
    {
     "name": "stdout",
     "output_type": "stream",
     "text": [
      "Number of rice on 100th day: 1267650600228229401496703205376\n"
     ]
    },
    {
     "data": {
      "image/png": "[encoded data removed]",
      "text/plain": [
       "<Figure size 640x480 with 1 Axes>"
      ]
     },
     "metadata": {},
     "output_type": "display_data"
    }
   ],
   "source": [
    "import matplotlib.pyplot as plt\n",
    "\n",
    "rice_count = 1\n",
    "total_days = 100\n",
    "number_days = []\n",
    "current_number = rice_count\n",
    "number_days.append(rice_count)\n",
    "for i in range(total_days):\n",
    "    current_number = current_number * 2\n",
    "    number_days.append(current_number)\n",
    "\n",
    "\n",
    "print(\"Number of rice on 100th day:\", number_rice)\n",
    "\n",
    "## graph\n",
    "plt.title(\"Number of rice\")\n",
    "plt.xlabel(\"Number of days\")\n",
    "plt.ylabel(\"Number of rice\")\n",
    "plt.plot(number_days)\n",
    "plt.show()"
   ]
  },
  {
   "cell_type": "markdown",
   "id": "02fa71d9-fa27-43fc-b0ed-aa86ca5736d2",
   "metadata": {},
   "source": [
    "# 【Problem 2] Number of rice grains outside of the 100th day"
   ]
  },
  {
   "cell_type": "code",
   "execution_count": 12,
   "id": "c4189e4c-3ba6-4b41-861d-ba84fabe3913",
   "metadata": {},
   "outputs": [
    {
     "name": "stdout",
     "output_type": "stream",
     "text": [
      "[1, 2, 4, 8, 16, 32, 64, 128, 256, 512] [2, 4, 8, 16, 32, 64, 128, 256, 512, 1024]\n"
     ]
    }
   ],
   "source": [
    "def compute_sorori_shinzaemon(n_days=100):\n",
    "    \"\"\"\n",
    "    A function that calculates the number of rice grains per day in the rice anecdote of Shinzaemon Sorori.\n",
    "\n",
    "    Parameteres\n",
    "    -----------\n",
    "    n_days: int\n",
    "        Number of days to get rice (default : 100)\n",
    "\n",
    "    Returns\n",
    "    -------\n",
    "    list_n_grains : list\n",
    "        List of the number of rice you get one day (list length equals n_days)\n",
    "    list_total_grains : list\n",
    "        List of total number of rice received by a certain day (list length is equal to n_days)\n",
    "    \"\"\"\n",
    "\n",
    "    # Write the code here. pass is an instruction that means do nothing.\n",
    "    current_rice = 1\n",
    "    list_n_grains = []\n",
    "    list_total_grains = []\n",
    "    for i in range(n_days):\n",
    "        list_n_grains.append(current_rice)\n",
    "        current_rice = current_rice * 2\n",
    "        list_total_grains.append(current_rice)\n",
    "\n",
    "    return list_n_grains, list_total_grains\n",
    "\n",
    "list_n_grains, list_total_grains = compute_sorori_shinzaemon(n_days=10)\n",
    "print(list_n_grains,list_total_grains)"
   ]
  },
  {
   "cell_type": "markdown",
   "id": "e53a0c8e-3b57-4832-abd1-a363e89b8419",
   "metadata": {},
   "source": [
    "# 【Problem 3] How many people can live for how many days with the rice we get?"
   ]
  },
  {
   "cell_type": "code",
   "execution_count": 13,
   "id": "f5d7e047-a880-4f3e-931a-fd87fa0ac14c",
   "metadata": {},
   "outputs": [
    {
     "data": {
      "text/plain": [
       "5"
      ]
     },
     "execution_count": 13,
     "metadata": {},
     "output_type": "execute_result"
    }
   ],
   "source": [
    "def compute_days(number_of_rice: int, number_of_people: int, daily_usage=19200):\n",
    "    \"\"\"\n",
    "    A function that calculates the number of days based on number of rice grains and number of people\n",
    "    Daily usage is considered as 19200 for adult\n",
    "\n",
    "    Parameters\n",
    "    ----------\n",
    "    number_of_rice: int\n",
    "        total number of rice grains\n",
    "    number_of_people: int\n",
    "        total number of people to eat rice\n",
    "    daily_usage: int\n",
    "        daily usage of rice for an adult, default is 19200\n",
    "\n",
    "    Returns\n",
    "    -------\n",
    "    number_of_days: int\n",
    "        total number of days to live based on given rice and people count\n",
    "    \"\"\"\n",
    "    total_daily = daily_usage * number_of_people\n",
    "    number_of_days = int(number_of_rice / total_daily)\n",
    "    return number_of_days\n",
    "compute_days(200000, 2)"
   ]
  },
  {
   "cell_type": "code",
   "execution_count": 18,
   "id": "15f1a3b1-0f96-4b51-877c-6afa79747369",
   "metadata": {},
   "outputs": [
    {
     "name": "stdout",
     "output_type": "stream",
     "text": [
      "10 people with 1048576 rice can live 5 days\n"
     ]
    }
   ],
   "source": [
    "## test\n",
    "number_of_rice = 2 ** 20\n",
    "number_of_ppl = 10\n",
    "days = compute_days(number_of_rice, number_of_ppl)\n",
    "print(f\"{number_of_ppl} people with {number_of_rice} rice can live {days} days\")"
   ]
  },
  {
   "cell_type": "code",
   "execution_count": null,
   "id": "20093450-7317-47be-a65f-4da6a3fbcfe4",
   "metadata": {},
   "outputs": [],
   "source": []
  }
 ],
 "metadata": {
  "kernelspec": {
   "display_name": "Python 3 (ipykernel)",
   "language": "python",
   "name": "python3"
  },
  "language_info": {
   "codemirror_mode": {
    "name": "ipython",
    "version": 3
   },
   "file_extension": ".py",
   "mimetype": "text/x-python",
   "name": "python",
   "nbconvert_exporter": "python",
   "pygments_lexer": "ipython3",
   "version": "3.9.13"
  }
 },
 "nbformat": 4,
 "nbformat_minor": 5
}
