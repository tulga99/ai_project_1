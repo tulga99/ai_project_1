{
 "cells": [
  {
   "cell_type": "code",
   "execution_count": 1,
   "id": "246fdb6d-5bb8-454e-93d3-a306c2a71ef2",
   "metadata": {},
   "outputs": [],
   "source": [
    "import numpy as np"
   ]
  },
  {
   "cell_type": "code",
   "execution_count": 27,
   "id": "96ded4f9-1025-47d4-b8dc-1cb1b071082d",
   "metadata": {},
   "outputs": [],
   "source": [
    "class ScratchLinearRegression():\n",
    "    def __init__(self, num_iter, lr, no_bias, verbose): \n",
    "        self.num_iter = num_iter\n",
    "        self.lr = lr\n",
    "        self.bias = no_bias\n",
    "        self.verbose = verbose\n",
    "        self.theta = np.array([])\n",
    "        self.loss = np.array([])\n",
    "        self.val_loss = np.array([])\n",
    "\n",
    "    # problem6（Learning and estimation ）\n",
    "    def fit(self, X, y, X_val, y_val):\n",
    "        \"\"\"\n",
    "        Learning linear regression \n",
    "        \"\"\"\n",
    "        if self.bias == True:\n",
    "        \tbias = np.ones((X.shape[0], 1))\n",
    "        \tX = np.hstack((bias, X))\n",
    "        \tbias = np.ones((X_val.shape[0], 1))\n",
    "        \tX_val = np.hstack((bias, X_val))\n",
    "        self.theta = np.zeros(X.shape[1])\n",
    "        self.theta = self.theta.reshape(X.shape[1], 1)\n",
    "        for i in range(self.num_iter):\n",
    "            pred = self._linear_hypothesis(X)\n",
    "            pred_val = self._linear_hypothesis(X_val)\n",
    "            self._gradient_descent(X, y)\n",
    "            loss = self._loss_func(pred, y)\n",
    "            self.loss = np.append(self.loss, loss)\n",
    "            loss_val = self._loss_func(pred_val, y_val)\n",
    "            self.val_loss = np.append(self.val_loss, loss_val)\n",
    "            if self.verbose == True:\n",
    "                print('{}-th loss {}'.format(i,loss))\n",
    "\n",
    "\n",
    "    # problem1\n",
    "    def _linear_hypothesis(self, X):\n",
    "        \"\"\"\n",
    "        Hypothetical functionの出力To計算する\n",
    "        Parameters\n",
    "        ----------\n",
    "        X : of the following form. ndarray, shape (n_samples, n_features)\n",
    "          Training data\n",
    "        Returns\n",
    "        -------\n",
    "        of the following form. ndarray, shape (n_samples, 1)\n",
    "        線形のHypothetical functionによる推定結果\n",
    "        \"\"\"\n",
    "        pred = X @ self.theta\n",
    "        return pred\n",
    "\n",
    "    # problem2\n",
    "    def _gradient_descent(self, X, y):\n",
    "        \"\"\"\n",
    "        Calculation of updated parameter values using the steepest descent method.\n",
    "        \"\"\"\n",
    "        m = X.shape[0]\n",
    "        n = X.shape[1]\n",
    "        pred = self._linear_hypothesis(X)\n",
    "        for j in range(n):\n",
    "            gradient = 0\n",
    "            for i in range(m):\n",
    "                gradient += (pred[i] - y[i]) * X[i, j]\n",
    "            self.theta[j] = self.theta[j] - self.lr * (gradient / m)\n",
    "\n",
    "    # problem3\n",
    "    def predict(self):\n",
    "        \"\"\"\n",
    "        Estimation by linear regression. \n",
    "        \"\"\"\n",
    "        if self.bias == True:\n",
    "            bias = np.ones(X.shape[0]).reshape(X.shape[0], 1)\n",
    "            X = np.hstack([bias, X])\n",
    "        pred_y = self._linear_hypothesis(X)\n",
    "        return pred_y\n",
    "\n",
    "    # problem4\n",
    "    def _mse(self,y_pred, y):\n",
    "        \"\"\"\n",
    "        Calculation of mean square error\n",
    "        \"\"\"\n",
    "        mse = ((y_pred - y) ** 2).sum() / X.shape[0]\n",
    "        return mse\n",
    "\n",
    "    # problem5\n",
    "    def _loss_func(self, y_pred, y):\n",
    "        \"\"\"\n",
    "         loss function\n",
    "        \"\"\"\n",
    "        loss = self._mse(y_pred, y)/2\n",
    "        return loss"
   ]
  },
  {
   "cell_type": "code",
   "execution_count": 28,
   "id": "b3885af5-801a-418a-80e2-23f4f6983d3f",
   "metadata": {},
   "outputs": [],
   "source": [
    "import numpy as np\n",
    "import pandas as pd\n",
    "from sklearn.model_selection import train_test_split\n",
    "dataset = pd.read_csv(\"../big_data/train.csv\")\n",
    "X = dataset.loc[:, ['GrLivArea', 'YearBuilt']]\n",
    "y = dataset.loc[:, ['SalePrice']]\n",
    "X = X.values\n",
    "y = y.values\n",
    "X_train, X_test, y_train, y_test = train_test_split(X, y, train_size=0.8)"
   ]
  },
  {
   "cell_type": "code",
   "execution_count": 29,
   "id": "93f17395-e856-45c0-a996-7954fd8a1b97",
   "metadata": {},
   "outputs": [
    {
     "name": "stdout",
     "output_type": "stream",
     "text": [
      "0-th loss 15595133873.05137\n",
      "1-th loss 5.551166122854225e+19\n",
      "2-th loss 2.204324257819331e+29\n",
      "3-th loss 8.753379356864153e+38\n",
      "4-th loss 3.475970069322651e+48\n",
      "5-th loss 1.3803089561646327e+58\n",
      "6-th loss 5.481211795473231e+67\n",
      "7-th loss 2.1765911619029966e+77\n",
      "8-th loss 8.643251278826393e+86\n",
      "9-th loss 3.432238170241335e+96\n"
     ]
    }
   ],
   "source": [
    "slr = ScratchLinearRegression(num_iter=10, lr=0.01, no_bias=True, verbose=True)\n",
    "slr.fit(X_train, y_train, X_test, y_test)"
   ]
  },
  {
   "cell_type": "code",
   "execution_count": 30,
   "id": "4aca6781-29ce-4ee0-8ef2-58d6125972e6",
   "metadata": {},
   "outputs": [
    {
     "data": {
      "text/plain": [
       "[<matplotlib.lines.Line2D at 0x182e57d7be0>]"
      ]
     },
     "execution_count": 30,
     "metadata": {},
     "output_type": "execute_result"
    },
    {
     "data": {
      "image/png": "[encoded data removed]",
      "text/plain": [
       "<Figure size 640x480 with 1 Axes>"
      ]
     },
     "metadata": {},
     "output_type": "display_data"
    }
   ],
   "source": [
    "import matplotlib.pyplot as plt\n",
    "%matplotlib inline\n",
    "plt.plot(slr.loss)\n",
    "plt.plot(slr.val_loss)"
   ]
  },
  {
   "cell_type": "code",
   "execution_count": null,
   "id": "b562df20-3aa7-4b95-a15e-a29fff8e17af",
   "metadata": {},
   "outputs": [],
   "source": [
    "import numpy as np\n",
    "import pandas as pd\n",
    "from sklearn.model_selection import train_test_split\n",
    "from sklearn.preprocessing import MinMaxScaler\n",
    "dataset = pd.read_csv(\"../big_data/train.csv\")\n",
    "X = dataset.loc[:, ['GrLivArea', 'YearBuilt']]\n",
    "y = dataset.loc[:, ['SalePrice']]\n",
    "X = X.values\n",
    "X = MinMaxScaler().fit_transform(X)\n",
    "y = np.log(y.values\n",
    "X_train, X_test, y_train, y_test = train_test_split(X, y, train_size=0.8)"
   ]
  }
 ],
 "metadata": {
  "kernelspec": {
   "display_name": "Python 3 (ipykernel)",
   "language": "python",
   "name": "python3"
  },
  "language_info": {
   "codemirror_mode": {
    "name": "ipython",
    "version": 3
   },
   "file_extension": ".py",
   "mimetype": "text/x-python",
   "name": "python",
   "nbconvert_exporter": "python",
   "pygments_lexer": "ipython3",
   "version": "3.9.13"
  }
 },
 "nbformat": 4,
 "nbformat_minor": 5
}
