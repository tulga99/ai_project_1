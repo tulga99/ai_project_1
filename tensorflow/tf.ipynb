{
 "cells": [
  {
   "cell_type": "code",
   "execution_count": 1,
   "id": "b7e35ed9-4b9a-474d-bad0-fe15ff94d885",
   "metadata": {},
   "outputs": [],
   "source": [
    "import numpy as np\n",
    "import pandas as pd\n",
    "from sklearn.model_selection import train_test_split\n",
    "import tensorflow as tf"
   ]
  },
  {
   "cell_type": "code",
   "execution_count": 2,
   "id": "3adfb697-4dc5-496b-a2b6-0082ad11a8e3",
   "metadata": {},
   "outputs": [],
   "source": [
    "df = pd.read_csv(\"../big_data/iris.csv\")"
   ]
  },
  {
   "cell_type": "code",
   "execution_count": 3,
   "id": "41978867-f162-4885-bfd9-5768534c5be3",
   "metadata": {},
   "outputs": [],
   "source": [
    "df = df[(df[\"Species\"] == \"Iris-versicolor\") | (df[\"Species\"] == \"Iris-virginica\")]\n",
    "y = df[\"Species\"]\n",
    "X = df.loc[:, [\"SepalLengthCm\", \"SepalWidthCm\", \"PetalLengthCm\", \"PetalWidthCm\"]]"
   ]
  },
  {
   "cell_type": "code",
   "execution_count": 4,
   "id": "571b079c-7edd-430e-8f00-233cf6fd2220",
   "metadata": {},
   "outputs": [],
   "source": [
    "X = np.array(X)\n",
    "y = np.array(y)"
   ]
  },
  {
   "cell_type": "code",
   "execution_count": 5,
   "id": "3c8f0786-b574-47a4-8119-4fdc78590184",
   "metadata": {},
   "outputs": [],
   "source": [
    "y[y == \"Iris-versicolor\"] = 0\n",
    "y[y == \"Iris-virginica\"] = 1\n",
    "y = y.astype(np.int64)[:, np.newaxis]"
   ]
  },
  {
   "cell_type": "code",
   "execution_count": 6,
   "id": "9930bfef-a65e-4125-a612-069298c60122",
   "metadata": {},
   "outputs": [],
   "source": [
    "# trainとtestに分割\n",
    "X_train, X_test, y_train, y_test = train_test_split(X, y, test_size=0.2, random_state=0)\n",
    "\n",
    "# さらにtrainとvalに分割\n",
    "X_train, X_val, y_train, y_val = train_test_split(X_train, y_train, test_size=0.2, random_state=0)"
   ]
  },
  {
   "cell_type": "code",
   "execution_count": 7,
   "id": "49b79ff0-4325-4d61-ab33-525da3517739",
   "metadata": {},
   "outputs": [],
   "source": [
    "class GetMiniBatch:\n",
    "    \"\"\"\n",
    "    ミニバッチを取得するイテレータ\n",
    "\n",
    "    Parameters\n",
    "    ----------\n",
    "    X : 次の形のndarray, shape (n_samples, n_features)\n",
    "      訓練データ\n",
    "    y : 次の形のndarray, shape (n_samples, 1)\n",
    "      正解値\n",
    "    batch_size : int\n",
    "      バッチサイズ\n",
    "    seed : int\n",
    "      NumPyの乱数のシード\n",
    "    \"\"\"\n",
    "    def __init__(self, X, y, batch_size = 10, seed=0):\n",
    "        self.batch_size = batch_size\n",
    "        np.random.seed(seed)\n",
    "        shuffle_index = np.random.permutation(np.arange(X.shape[0]))\n",
    "        self.X = X[shuffle_index]\n",
    "        self.y = y[shuffle_index]\n",
    "        self._stop = np.ceil(X.shape[0]/self.batch_size).astype(np.int32)\n",
    "    def __len__(self):\n",
    "        return self._stop\n",
    "    def __getitem__(self,item):\n",
    "        p0 = item*self.batch_size\n",
    "        p1 = item*self.batch_size + self.batch_size\n",
    "        return self.X[p0:p1], self.y[p0:p1]        \n",
    "    def __iter__(self):\n",
    "        self._counter = 0\n",
    "        return self\n",
    "    def __next__(self):\n",
    "        if self._counter >= self._stop:\n",
    "            raise StopIteration()\n",
    "        p0 = self._counter*self.batch_size\n",
    "        p1 = self._counter*self.batch_size + self.batch_size\n",
    "        self._counter += 1\n",
    "        return self.X[p0:p1], self.y[p0:p1]"
   ]
  },
  {
   "cell_type": "code",
   "execution_count": 8,
   "id": "60b2d42b-aa69-4baf-be2f-f824375e285d",
   "metadata": {},
   "outputs": [],
   "source": [
    "# ハイパーパラメータの設定\n",
    "learning_rate = 0.001\n",
    "batch_size = 10\n",
    "num_epochs = 100\n",
    "\n",
    "n_hidden1 = 32\n",
    "n_hidden2 = 64\n",
    "n_input = X_train.shape[1]\n",
    "n_samples = X_train.shape[0]\n",
    "n_classes = 1"
   ]
  },
  {
   "cell_type": "code",
   "execution_count": 9,
   "id": "04635c3a-ee8e-4fd6-ac73-4792687fba1f",
   "metadata": {},
   "outputs": [
    {
     "name": "stdout",
     "output_type": "stream",
     "text": [
      "WARNING:tensorflow:From C:\\Users\\batmunkh.ERDENETMC\\AppData\\Local\\Temp\\ipykernel_8912\\223991952.py:2: The name tf.disable_v2_behavior is deprecated. Please use tf.compat.v1.disable_v2_behavior instead.\n",
      "\n",
      "WARNING:tensorflow:From C:\\Users\\batmunkh.ERDENETMC\\AppData\\Local\\Packages\\PythonSoftwareFoundation.Python.3.9_qbz5n2kfra8p0\\LocalCache\\local-packages\\Python39\\site-packages\\tensorflow\\python\\compat\\v2_compat.py:98: disable_resource_variables (from tensorflow.python.ops.resource_variables_toggle) is deprecated and will be removed in a future version.\n",
      "Instructions for updating:\n",
      "non-resource variables are not supported in the long term\n"
     ]
    }
   ],
   "source": [
    "import tensorflow.compat.v1 as tf\n",
    "tf.disable_v2_behavior()\n",
    "\n",
    "# 計算グラフに渡す引数の形を決める\n",
    "X = tf.placeholder(\"float\", [None, n_input])\n",
    "Y = tf.placeholder(\"float\", [None, n_classes])\n",
    "\n",
    "# trainのミニバッチイテレータ\n",
    "get_mini_batch_train = GetMiniBatch(X_train, y_train, batch_size=batch_size)"
   ]
  },
  {
   "cell_type": "code",
   "execution_count": 10,
   "id": "46a08e1b-8018-4303-945e-6b8e1ac7b729",
   "metadata": {},
   "outputs": [],
   "source": [
    "def example_net(x):\n",
    "    \"\"\"\n",
    "    単純な3層ニューラルネットワーク\n",
    "    \"\"\"\n",
    "    tf.random.set_random_seed(0)\n",
    "    # 重みとバイアスの宣言\n",
    "    weights = {\n",
    "        'w1': tf.Variable(tf.random_normal([n_input, n_hidden1])),\n",
    "        'w2': tf.Variable(tf.random_normal([n_hidden1, n_hidden2])),\n",
    "        'w3': tf.Variable(tf.random_normal([n_hidden2, n_classes]))\n",
    "    }\n",
    "    biases = {\n",
    "        'b1': tf.Variable(tf.random_normal([n_hidden1])),\n",
    "        'b2': tf.Variable(tf.random_normal([n_hidden2])),\n",
    "        'b3': tf.Variable(tf.random_normal([n_classes]))\n",
    "    }\n",
    "\n",
    "    layer_1 = tf.add(tf.matmul(x, weights['w1']), biases['b1'])\n",
    "    layer_1 = tf.nn.relu(layer_1)\n",
    "    layer_2 = tf.add(tf.matmul(layer_1, weights['w2']), biases['b2'])\n",
    "    layer_2 = tf.nn.relu(layer_2)\n",
    "    layer_output = tf.matmul(layer_2, weights['w3']) + biases['b3'] # tf.addと+は等価である\n",
    "    return layer_output"
   ]
  },
  {
   "cell_type": "code",
   "execution_count": 11,
   "id": "6ab9e099-a6d4-4b64-b7ea-9273f100ce9a",
   "metadata": {},
   "outputs": [
    {
     "name": "stdout",
     "output_type": "stream",
     "text": [
      "WARNING:tensorflow:From C:\\Users\\batmunkh.ERDENETMC\\AppData\\Local\\Temp\\ipykernel_8912\\192028424.py:5: The name tf.random.set_random_seed is deprecated. Please use tf.compat.v1.random.set_random_seed instead.\n",
      "\n",
      "WARNING:tensorflow:From C:\\Users\\batmunkh.ERDENETMC\\AppData\\Local\\Temp\\ipykernel_8912\\1244934918.py:6: The name tf.train.AdamOptimizer is deprecated. Please use tf.compat.v1.train.AdamOptimizer instead.\n",
      "\n"
     ]
    }
   ],
   "source": [
    "logits = example_net(X)\n",
    "\n",
    "# 目的関数\n",
    "loss_op = tf.reduce_mean(tf.nn.sigmoid_cross_entropy_with_logits(labels=Y, logits=logits))\n",
    "# 最適化手法\n",
    "optimizer = tf.train.AdamOptimizer(learning_rate=learning_rate)\n",
    "train_op = optimizer.minimize(loss_op)\n",
    "\n",
    "# 推定結果\n",
    "correct_pred = tf.equal(tf.sign(Y - 0.5), tf.sign(tf.sigmoid(logits) - 0.5))\n",
    "# 指標値計算\n",
    "accuracy = tf.reduce_mean(tf.cast(correct_pred, tf.float32))\n",
    "\n",
    "# variableの初期化\n",
    "init = tf.global_variables_initializer()"
   ]
  },
  {
   "cell_type": "code",
   "execution_count": 12,
   "id": "92a84887-97be-490c-a4b9-2693b368c269",
   "metadata": {},
   "outputs": [
    {
     "name": "stdout",
     "output_type": "stream",
     "text": [
      "Epoch 0, loss : 0.7254, val_loss : 7.1833, acc : 0.188\n",
      "Epoch 1, loss : 0.6096, val_loss : 4.9841, acc : 0.000\n",
      "Epoch 2, loss : 0.5444, val_loss : 4.9174, acc : 0.125\n",
      "Epoch 3, loss : 0.4742, val_loss : 4.6272, acc : 0.188\n",
      "Epoch 4, loss : 0.3932, val_loss : 3.5104, acc : 0.062\n",
      "Epoch 5, loss : 0.3243, val_loss : 3.2457, acc : 0.188\n",
      "Epoch 6, loss : 0.2606, val_loss : 2.5453, acc : 0.188\n",
      "Epoch 7, loss : 0.2003, val_loss : 2.1778, acc : 0.250\n",
      "Epoch 8, loss : 0.1583, val_loss : 1.7374, acc : 0.250\n",
      "Epoch 9, loss : 0.1275, val_loss : 1.5066, acc : 0.438\n",
      "Epoch 10, loss : 0.1055, val_loss : 1.2935, acc : 0.438\n",
      "Epoch 11, loss : 0.0911, val_loss : 1.1731, acc : 0.562\n",
      "Epoch 12, loss : 0.0787, val_loss : 1.0545, acc : 0.625\n",
      "Epoch 13, loss : 0.0696, val_loss : 0.9844, acc : 0.688\n",
      "Epoch 14, loss : 0.0621, val_loss : 0.9146, acc : 0.688\n",
      "Epoch 15, loss : 0.0566, val_loss : 0.8712, acc : 0.688\n",
      "Epoch 16, loss : 0.0522, val_loss : 0.8270, acc : 0.688\n",
      "Epoch 17, loss : 0.0488, val_loss : 0.7971, acc : 0.750\n",
      "Epoch 18, loss : 0.0461, val_loss : 0.7666, acc : 0.750\n",
      "Epoch 19, loss : 0.0438, val_loss : 0.7431, acc : 0.750\n",
      "Epoch 20, loss : 0.0420, val_loss : 0.7208, acc : 0.750\n",
      "Epoch 21, loss : 0.0403, val_loss : 0.7007, acc : 0.750\n",
      "Epoch 22, loss : 0.0390, val_loss : 0.6829, acc : 0.750\n",
      "Epoch 23, loss : 0.0378, val_loss : 0.6658, acc : 0.750\n",
      "Epoch 24, loss : 0.0367, val_loss : 0.6507, acc : 0.750\n",
      "Epoch 25, loss : 0.0358, val_loss : 0.6361, acc : 0.750\n",
      "Epoch 26, loss : 0.0350, val_loss : 0.6230, acc : 0.750\n",
      "Epoch 27, loss : 0.0342, val_loss : 0.6107, acc : 0.750\n",
      "Epoch 28, loss : 0.0335, val_loss : 0.5992, acc : 0.750\n",
      "Epoch 29, loss : 0.0329, val_loss : 0.5884, acc : 0.750\n",
      "Epoch 30, loss : 0.0323, val_loss : 0.5778, acc : 0.750\n",
      "Epoch 31, loss : 0.0318, val_loss : 0.5678, acc : 0.750\n",
      "Epoch 32, loss : 0.0313, val_loss : 0.5582, acc : 0.750\n",
      "Epoch 33, loss : 0.0308, val_loss : 0.5491, acc : 0.750\n",
      "Epoch 34, loss : 0.0304, val_loss : 0.5404, acc : 0.750\n",
      "Epoch 35, loss : 0.0300, val_loss : 0.5320, acc : 0.750\n",
      "Epoch 36, loss : 0.0296, val_loss : 0.5240, acc : 0.750\n",
      "Epoch 37, loss : 0.0292, val_loss : 0.5162, acc : 0.750\n",
      "Epoch 38, loss : 0.0289, val_loss : 0.5085, acc : 0.750\n",
      "Epoch 39, loss : 0.0285, val_loss : 0.5011, acc : 0.750\n",
      "Epoch 40, loss : 0.0282, val_loss : 0.4938, acc : 0.750\n",
      "Epoch 41, loss : 0.0278, val_loss : 0.4868, acc : 0.750\n",
      "Epoch 42, loss : 0.0275, val_loss : 0.4801, acc : 0.750\n",
      "Epoch 43, loss : 0.0272, val_loss : 0.4735, acc : 0.750\n",
      "Epoch 44, loss : 0.0269, val_loss : 0.4672, acc : 0.750\n",
      "Epoch 45, loss : 0.0266, val_loss : 0.4611, acc : 0.750\n",
      "Epoch 46, loss : 0.0264, val_loss : 0.4557, acc : 0.750\n",
      "Epoch 47, loss : 0.0261, val_loss : 0.4505, acc : 0.750\n",
      "Epoch 48, loss : 0.0258, val_loss : 0.4454, acc : 0.750\n",
      "Epoch 49, loss : 0.0256, val_loss : 0.4405, acc : 0.750\n",
      "Epoch 50, loss : 0.0253, val_loss : 0.4356, acc : 0.750\n",
      "Epoch 51, loss : 0.0251, val_loss : 0.4309, acc : 0.750\n",
      "Epoch 52, loss : 0.0249, val_loss : 0.4263, acc : 0.750\n",
      "Epoch 53, loss : 0.0247, val_loss : 0.4218, acc : 0.750\n",
      "Epoch 54, loss : 0.0244, val_loss : 0.4174, acc : 0.750\n",
      "Epoch 55, loss : 0.0242, val_loss : 0.4131, acc : 0.750\n",
      "Epoch 56, loss : 0.0240, val_loss : 0.4089, acc : 0.750\n",
      "Epoch 57, loss : 0.0238, val_loss : 0.4047, acc : 0.750\n",
      "Epoch 58, loss : 0.0236, val_loss : 0.4005, acc : 0.750\n",
      "Epoch 59, loss : 0.0234, val_loss : 0.3966, acc : 0.750\n",
      "Epoch 60, loss : 0.0233, val_loss : 0.3926, acc : 0.750\n",
      "Epoch 61, loss : 0.0231, val_loss : 0.3888, acc : 0.750\n",
      "Epoch 62, loss : 0.0229, val_loss : 0.3850, acc : 0.750\n",
      "Epoch 63, loss : 0.0228, val_loss : 0.3813, acc : 0.750\n",
      "Epoch 64, loss : 0.0226, val_loss : 0.3776, acc : 0.750\n",
      "Epoch 65, loss : 0.0225, val_loss : 0.3740, acc : 0.750\n",
      "Epoch 66, loss : 0.0223, val_loss : 0.3705, acc : 0.750\n",
      "Epoch 67, loss : 0.0222, val_loss : 0.3670, acc : 0.750\n",
      "Epoch 68, loss : 0.0220, val_loss : 0.3636, acc : 0.875\n",
      "Epoch 69, loss : 0.0219, val_loss : 0.3602, acc : 0.875\n",
      "Epoch 70, loss : 0.0217, val_loss : 0.3569, acc : 0.875\n",
      "Epoch 71, loss : 0.0216, val_loss : 0.3537, acc : 0.875\n",
      "Epoch 72, loss : 0.0215, val_loss : 0.3505, acc : 0.875\n",
      "Epoch 73, loss : 0.0213, val_loss : 0.3474, acc : 0.875\n",
      "Epoch 74, loss : 0.0212, val_loss : 0.3443, acc : 0.875\n",
      "Epoch 75, loss : 0.0211, val_loss : 0.3412, acc : 0.875\n",
      "Epoch 76, loss : 0.0209, val_loss : 0.3382, acc : 0.875\n",
      "Epoch 77, loss : 0.0208, val_loss : 0.3353, acc : 0.875\n",
      "Epoch 78, loss : 0.0207, val_loss : 0.3324, acc : 0.875\n",
      "Epoch 79, loss : 0.0205, val_loss : 0.3296, acc : 0.875\n",
      "Epoch 80, loss : 0.0204, val_loss : 0.3268, acc : 0.875\n",
      "Epoch 81, loss : 0.0203, val_loss : 0.3240, acc : 0.875\n",
      "Epoch 82, loss : 0.0202, val_loss : 0.3213, acc : 0.875\n",
      "Epoch 83, loss : 0.0200, val_loss : 0.3187, acc : 0.875\n",
      "Epoch 84, loss : 0.0199, val_loss : 0.3161, acc : 0.875\n",
      "Epoch 85, loss : 0.0198, val_loss : 0.3135, acc : 0.875\n",
      "Epoch 86, loss : 0.0197, val_loss : 0.3110, acc : 0.875\n",
      "Epoch 87, loss : 0.0196, val_loss : 0.3085, acc : 0.875\n",
      "Epoch 88, loss : 0.0195, val_loss : 0.3060, acc : 0.875\n",
      "Epoch 89, loss : 0.0193, val_loss : 0.3036, acc : 0.875\n",
      "Epoch 90, loss : 0.0192, val_loss : 0.3013, acc : 0.875\n",
      "Epoch 91, loss : 0.0191, val_loss : 0.2989, acc : 0.875\n",
      "Epoch 92, loss : 0.0190, val_loss : 0.2966, acc : 0.875\n",
      "Epoch 93, loss : 0.0189, val_loss : 0.2944, acc : 0.875\n",
      "Epoch 94, loss : 0.0188, val_loss : 0.2922, acc : 0.875\n",
      "Epoch 95, loss : 0.0187, val_loss : 0.2900, acc : 0.875\n",
      "Epoch 96, loss : 0.0186, val_loss : 0.2879, acc : 0.875\n",
      "Epoch 97, loss : 0.0184, val_loss : 0.2858, acc : 0.875\n",
      "Epoch 98, loss : 0.0183, val_loss : 0.2837, acc : 0.875\n",
      "Epoch 99, loss : 0.0182, val_loss : 0.2817, acc : 0.875\n",
      "test_acc : 0.900\n"
     ]
    }
   ],
   "source": [
    "with tf.Session() as sess:\n",
    "    sess.run(init)\n",
    "    for epoch in range(num_epochs):\n",
    "        # エポックごとにループ\n",
    "        total_batch = np.ceil(X_train.shape[0]/batch_size).astype(np.int64)\n",
    "        total_loss = 0\n",
    "        total_acc = 0\n",
    "        for i, (mini_batch_x, mini_batch_y) in enumerate(get_mini_batch_train):\n",
    "            # ミニバッチごとにループ\n",
    "            sess.run(train_op, feed_dict={X: mini_batch_x, Y: mini_batch_y})\n",
    "            loss, acc = sess.run([loss_op, accuracy], feed_dict={X: mini_batch_x, Y: mini_batch_y})\n",
    "            total_loss += loss\n",
    "        total_loss /= n_samples\n",
    "        val_loss, acc = sess.run([loss_op, accuracy], feed_dict={X: X_val, Y: y_val})\n",
    "        print(\"Epoch {}, loss : {:.4f}, val_loss : {:.4f}, acc : {:.3f}\".format(epoch, total_loss, val_loss, acc))\n",
    "    test_acc = sess.run(accuracy, feed_dict={X: X_test, Y: y_test})\n",
    "    print(\"test_acc : {:.3f}\".format(test_acc))"
   ]
  },
  {
   "cell_type": "code",
   "execution_count": null,
   "id": "685f4c2d-af02-4da3-a097-eca6d0cccdbe",
   "metadata": {},
   "outputs": [],
   "source": []
  }
 ],
 "metadata": {
  "kernelspec": {
   "display_name": "Python 3 (ipykernel)",
   "language": "python",
   "name": "python3"
  },
  "language_info": {
   "codemirror_mode": {
    "name": "ipython",
    "version": 3
   },
   "file_extension": ".py",
   "mimetype": "text/x-python",
   "name": "python",
   "nbconvert_exporter": "python",
   "pygments_lexer": "ipython3",
   "version": "3.9.13"
  }
 },
 "nbformat": 4,
 "nbformat_minor": 5
}
