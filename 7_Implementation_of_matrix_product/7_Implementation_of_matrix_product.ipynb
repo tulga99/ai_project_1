{
 "cells": [
  {
   "cell_type": "code",
   "execution_count": 1,
   "id": "8520434b-3b8b-4539-9f43-45a240420e02",
   "metadata": {},
   "outputs": [],
   "source": [
    "import numpy as np"
   ]
  },
  {
   "cell_type": "code",
   "execution_count": 28,
   "id": "5cccf8d7-4fe8-4fde-b313-505908908ac5",
   "metadata": {},
   "outputs": [
    {
     "name": "stdout",
     "output_type": "stream",
     "text": [
      "[[-1  2  3]\n",
      " [ 4 -5  6]\n",
      " [ 7  8 -9]]\n",
      "[[ 0  2  1]\n",
      " [ 0  2 -8]\n",
      " [ 2  9 -1]]\n"
     ]
    }
   ],
   "source": [
    "a_ndarray = np.array([[-1, 2, 3], [4, -5, 6], [7, 8, -9]])\n",
    "b_ndarray = np.array([[0, 2, 1], [0, 2, -8], [2, 9, -1]])\n",
    "print(a_ndarray)\n",
    "print(b_ndarray)"
   ]
  },
  {
   "cell_type": "markdown",
   "id": "4e10937a-7f37-472a-9d92-4f0187d064be",
   "metadata": {},
   "source": [
    "# [Problem 1] Matrix product is calculated manually"
   ]
  },
  {
   "cell_type": "code",
   "execution_count": 29,
   "id": "7162a5a6-0fa4-4d6c-9f02-3637b346fe72",
   "metadata": {},
   "outputs": [],
   "source": [
    "## matrix product is done by following order a[0][0]*b[0][0] + a[0][1] * b[1][0] + a[0][2]*b[2][0] and then goes on\n",
    "## for example, given matrix products's [0][0] element will be -1*0+2*0+3*2=6, i name product as new_matrix \n",
    "## new_matrix[0][0]=(-1*0) + 2*0 + 3*2 = 0 + 2 + 6 = 6\n",
    "## new_matrix[0][1]=(-1*2) + 2*2 + 3*9 = (-2) + 4 + 27 = 29\n",
    "## new_matrix[0][2]=(-1*1) + (2*-8) + (3*-1) = (-1) - 16 - 3 = -20\n",
    "## new_matrix[1][0]=4*0 + (-5*0) + 6*2 = 0 - 0 + 12 = 12\n",
    "## new_matrix[1][1]=4*2 + (-5*2) + 6*9 = 8 - 10 + 54 = 52\n",
    "## new_matrix[1][2]=4*1 + (-5*-8) + (6*-1) = 4 + 40 - 6 = 38\n",
    "## new_matrix[2][0]=7*0 + 8*0 + (-9*2) = 0 + 0 - 18 = -18\n",
    "## new_matrix[2][1]=-7*2 + 8*2 + (-9*9) = 14 + 16 - 81 = -51\n",
    "## new_matrix[2][2]=-7*1 + (8*-8) + (-9*-1) = 7 - 64 + 9 = -48\n",
    "## so product will be [[  6  29 -20], [ 12  52  38], [-18 -51 -48]]"
   ]
  },
  {
   "cell_type": "code",
   "execution_count": 7,
   "id": "8e2ddbe9-23a9-4657-936d-6ee9db34c1e7",
   "metadata": {},
   "outputs": [],
   "source": [
    "## result will be [[  6,  29, -20], [ 12,  52,  38], [-18, -51, -48]]"
   ]
  },
  {
   "cell_type": "markdown",
   "id": "914e5f85-c330-4242-b87c-4a16b0419780",
   "metadata": {},
   "source": [
    "# [Problem 2] Calculation by NumPy function"
   ]
  },
  {
   "cell_type": "code",
   "execution_count": 8,
   "id": "26b7541c-1154-40d7-9a9b-fe8f694fa73d",
   "metadata": {},
   "outputs": [
    {
     "name": "stdout",
     "output_type": "stream",
     "text": [
      "[[  6  29 -20]\n",
      " [ 12  52  38]\n",
      " [-18 -51 -48]]\n"
     ]
    }
   ],
   "source": [
    "result = np.dot(a_ndarray, b_ndarray)\n",
    "print(result)"
   ]
  },
  {
   "cell_type": "code",
   "execution_count": 9,
   "id": "4c18ac14-26ac-4ea9-a1d6-9921b1c506bf",
   "metadata": {},
   "outputs": [
    {
     "name": "stdout",
     "output_type": "stream",
     "text": [
      "[[  6  29 -20]\n",
      " [ 12  52  38]\n",
      " [-18 -51 -48]]\n"
     ]
    }
   ],
   "source": [
    "result = np.matmul(a_ndarray, b_ndarray)\n",
    "print(result)"
   ]
  },
  {
   "cell_type": "code",
   "execution_count": 10,
   "id": "c9c11259-e368-4dcd-9c3d-c591eb3a3be4",
   "metadata": {},
   "outputs": [
    {
     "name": "stdout",
     "output_type": "stream",
     "text": [
      "[[  6  29 -20]\n",
      " [ 12  52  38]\n",
      " [-18 -51 -48]]\n"
     ]
    }
   ],
   "source": [
    "result = a_ndarray@b_ndarray\n",
    "print(result)"
   ]
  },
  {
   "cell_type": "markdown",
   "id": "836cb829-5afa-4b29-b974-f91baf1ed995",
   "metadata": {},
   "source": [
    "# [Problem 3] Implementation of calculation of a certain element"
   ]
  },
  {
   "cell_type": "code",
   "execution_count": 11,
   "id": "1fa304a9-8021-4ec0-a6a0-af6f73c7cf5c",
   "metadata": {},
   "outputs": [],
   "source": [
    "a_ndarray = np.array([[-1, 2, 3], [4, -5, 6], [7, 8, -9]])\n",
    "b_ndarray = np.array([[0, 2, 1], [0, 2, -8], [2, 9, -1]])"
   ]
  },
  {
   "cell_type": "code",
   "execution_count": 16,
   "id": "482eb68b-ec07-4af3-9f16-3d5583f0302b",
   "metadata": {},
   "outputs": [
    {
     "name": "stdout",
     "output_type": "stream",
     "text": [
      "[[0, 0, 0], [0, 0, 0], [0, 0, 0]]\n",
      "[[0, 0, 0], [0, 0, 0], [0, 0, 0]]\n",
      "[[6, 0, 0], [0, 0, 0], [0, 0, 0]]\n",
      "[[6, -2, 0], [0, 0, 0], [0, 0, 0]]\n",
      "[[6, 2, 0], [0, 0, 0], [0, 0, 0]]\n",
      "[[6, 29, 0], [0, 0, 0], [0, 0, 0]]\n",
      "[[6, 29, -1], [0, 0, 0], [0, 0, 0]]\n",
      "[[6, 29, -17], [0, 0, 0], [0, 0, 0]]\n",
      "[[6, 29, -20], [0, 0, 0], [0, 0, 0]]\n",
      "[[6, 29, -20], [0, 0, 0], [0, 0, 0]]\n",
      "[[6, 29, -20], [0, 0, 0], [0, 0, 0]]\n",
      "[[6, 29, -20], [12, 0, 0], [0, 0, 0]]\n",
      "[[6, 29, -20], [12, 8, 0], [0, 0, 0]]\n",
      "[[6, 29, -20], [12, -2, 0], [0, 0, 0]]\n",
      "[[6, 29, -20], [12, 52, 0], [0, 0, 0]]\n",
      "[[6, 29, -20], [12, 52, 4], [0, 0, 0]]\n",
      "[[6, 29, -20], [12, 52, 44], [0, 0, 0]]\n",
      "[[6, 29, -20], [12, 52, 38], [0, 0, 0]]\n",
      "[[6, 29, -20], [12, 52, 38], [0, 0, 0]]\n",
      "[[6, 29, -20], [12, 52, 38], [0, 0, 0]]\n",
      "[[6, 29, -20], [12, 52, 38], [-18, 0, 0]]\n",
      "[[6, 29, -20], [12, 52, 38], [-18, 14, 0]]\n",
      "[[6, 29, -20], [12, 52, 38], [-18, 30, 0]]\n",
      "[[6, 29, -20], [12, 52, 38], [-18, -51, 0]]\n",
      "[[6, 29, -20], [12, 52, 38], [-18, -51, 7]]\n",
      "[[6, 29, -20], [12, 52, 38], [-18, -51, -57]]\n",
      "[[6, 29, -20], [12, 52, 38], [-18, -51, -48]]\n",
      "[[6, 29, -20], [12, 52, 38], [-18, -51, -48]]\n"
     ]
    }
   ],
   "source": [
    "result = [[0,0,0], [0,0,0], [0,0,0]]\n",
    "for i in range(len(a_ndarray)):\n",
    "    for j in range(len(b_ndarray[0])):\n",
    "        for k in range(len(b_ndarray)):\n",
    "            result[i][j] += a_ndarray[i][k] * b_ndarray[k][j]\n",
    "print(result)"
   ]
  },
  {
   "cell_type": "markdown",
   "id": "343e3849-fc87-46d5-89e6-e085d573875a",
   "metadata": {},
   "source": [
    "# [Problem 4] Creating a function that performs matrix multiplication"
   ]
  },
  {
   "cell_type": "code",
   "execution_count": 17,
   "id": "24fbfcb2-1f1b-4d32-9955-abbade12e061",
   "metadata": {},
   "outputs": [
    {
     "name": "stdout",
     "output_type": "stream",
     "text": [
      "[[6, 29, -20], [12, 52, 38], [-18, -51, -48]]\n"
     ]
    }
   ],
   "source": [
    "def calculate_product(a, b):\n",
    "    \"\"\"\n",
    "    A function that calculates product of matrixes\n",
    "\n",
    "    Parameters\n",
    "    ----------\n",
    "    a: matrix\n",
    "        a matrix\n",
    "    b: matrix\n",
    "        b matrix\n",
    "\n",
    "    Returns\n",
    "    -------\n",
    "    result: matrix\n",
    "        product of given matrixes\n",
    "    \"\"\"\n",
    "    \n",
    "    result = [[0,0,0], [0,0,0], [0,0,0]]\n",
    "    for i in range(len(a_ndarray)):\n",
    "        for j in range(len(b_ndarray[0])):\n",
    "            for k in range(len(b_ndarray)):\n",
    "                result[i][j] += a_ndarray[i][k] * b_ndarray[k][j]\n",
    "    return result\n",
    "\n",
    "a_ndarray = np.array([[-1, 2, 3], [4, -5, 6], [7, 8, -9]])\n",
    "b_ndarray = np.array([[0, 2, 1], [0, 2, -8], [2, 9, -1]])\n",
    "res = calculate_product(a_ndarray, b_ndarray)\n",
    "print(res)"
   ]
  },
  {
   "cell_type": "markdown",
   "id": "900b2b15-4520-4010-8a10-4297c04bb224",
   "metadata": {},
   "source": [
    "# [Problem 5] Judge the input whose calculation is not defined"
   ]
  },
  {
   "cell_type": "code",
   "execution_count": 18,
   "id": "b7e66c2b-275a-4025-995e-ffe1f94ef639",
   "metadata": {},
   "outputs": [],
   "source": [
    "d_ndarray = np.array([[-1, 2, 3], [4, -5, 6]])\n",
    "e_ndarray = np.array([[-9, 8, 7], [6, -5, 4]])"
   ]
  },
  {
   "cell_type": "code",
   "execution_count": 19,
   "id": "b5688caa-a93b-4fe3-a902-ade4923ddbab",
   "metadata": {},
   "outputs": [
    {
     "ename": "ValueError",
     "evalue": "shapes (2,3) and (2,3) not aligned: 3 (dim 1) != 2 (dim 0)",
     "output_type": "error",
     "traceback": [
      "\u001b[1;31m---------------------------------------------------------------------------\u001b[0m",
      "\u001b[1;31mValueError\u001b[0m                                Traceback (most recent call last)",
      "Cell \u001b[1;32mIn[19], line 1\u001b[0m\n\u001b[1;32m----> 1\u001b[0m res \u001b[38;5;241m=\u001b[39m \u001b[43mnp\u001b[49m\u001b[38;5;241;43m.\u001b[39;49m\u001b[43mdot\u001b[49m\u001b[43m(\u001b[49m\u001b[43md_ndarray\u001b[49m\u001b[43m,\u001b[49m\u001b[43m \u001b[49m\u001b[43me_ndarray\u001b[49m\u001b[43m)\u001b[49m\n\u001b[0;32m      2\u001b[0m \u001b[38;5;28mprint\u001b[39m(res)\n",
      "\u001b[1;31mValueError\u001b[0m: shapes (2,3) and (2,3) not aligned: 3 (dim 1) != 2 (dim 0)"
     ]
    }
   ],
   "source": [
    "res = np.dot(d_ndarray, e_ndarray)\n",
    "print(res)"
   ]
  },
  {
   "cell_type": "code",
   "execution_count": 21,
   "id": "16529fe0-249a-4c3b-b81a-edf0824092bc",
   "metadata": {},
   "outputs": [
    {
     "name": "stdout",
     "output_type": "stream",
     "text": [
      "matrix shapes are not correct\n",
      "None\n"
     ]
    }
   ],
   "source": [
    "def calculate_product(a, b):\n",
    "    \"\"\"\n",
    "    A function that calculates product of matrixes\n",
    "\n",
    "    Parameters\n",
    "    ----------\n",
    "    a: matrix\n",
    "        a matrix\n",
    "    b: matrix\n",
    "        b matrix\n",
    "\n",
    "    Returns\n",
    "    -------\n",
    "    result: matrix\n",
    "        product of given matrixes\n",
    "    \"\"\"\n",
    "    if len(a) != len(b[0]):\n",
    "        print(\"matrix shapes are not correct\")\n",
    "    else:\n",
    "        result = [[0,0,0], [0,0,0], [0,0,0]]\n",
    "        for i in range(len(a_ndarray)):\n",
    "            for j in range(len(b_ndarray[0])):\n",
    "                for k in range(len(b_ndarray)):\n",
    "                    result[i][j] += a_ndarray[i][k] * b_ndarray[k][j]\n",
    "        return result\n",
    "\n",
    "d_ndarray = np.array([[-1, 2, 3], [4, -5, 6]])\n",
    "e_ndarray = np.array([[-9, 8, 7], [6, -5, 4]])\n",
    "res = calculate_product(d_ndarray, e_ndarray)\n",
    "print(res)"
   ]
  },
  {
   "cell_type": "markdown",
   "id": "a5a9f452-6287-405b-85f6-9da5df92f5b1",
   "metadata": {},
   "source": [
    "# [Problem 6] Transposition"
   ]
  },
  {
   "cell_type": "code",
   "execution_count": 22,
   "id": "44a112a6-5a96-4f0d-8ab9-adc6f17b491f",
   "metadata": {},
   "outputs": [],
   "source": [
    "d_ndarray = np.array([[-1, 2, 3], [4, -5, 6]])\n",
    "e_ndarray = np.array([[-9, 8, 7], [6, -5, 4]])"
   ]
  },
  {
   "cell_type": "code",
   "execution_count": 24,
   "id": "08414486-cb98-409a-8096-c40197df48de",
   "metadata": {},
   "outputs": [
    {
     "name": "stdout",
     "output_type": "stream",
     "text": [
      "[[-9  6]\n",
      " [ 8 -5]\n",
      " [ 7  4]]\n"
     ]
    }
   ],
   "source": [
    "print(e_ndarray.T)"
   ]
  },
  {
   "cell_type": "code",
   "execution_count": 25,
   "id": "e3d8cf6a-96d7-4375-90de-9dc966624612",
   "metadata": {},
   "outputs": [
    {
     "name": "stdout",
     "output_type": "stream",
     "text": [
      "[[6, 29, -20], [12, 52, 38], [-18, -51, -48]]\n"
     ]
    }
   ],
   "source": [
    "d_ndarray = np.array([[-1, 2, 3], [4, -5, 6]])\n",
    "e_ndarray = np.array([[-9, 8, 7], [6, -5, 4]])\n",
    "res = calculate_product(d_ndarray, e_ndarray.T)\n",
    "print(res)"
   ]
  },
  {
   "cell_type": "code",
   "execution_count": null,
   "id": "bb036eb7-f498-4227-a145-d3c1ee63a293",
   "metadata": {},
   "outputs": [],
   "source": []
  },
  {
   "cell_type": "code",
   "execution_count": null,
   "id": "674b15c7-76f7-458e-87ce-6dc111a4d84c",
   "metadata": {},
   "outputs": [],
   "source": []
  }
 ],
 "metadata": {
  "kernelspec": {
   "display_name": "Python 3 (ipykernel)",
   "language": "python",
   "name": "python3"
  },
  "language_info": {
   "codemirror_mode": {
    "name": "ipython",
    "version": 3
   },
   "file_extension": ".py",
   "mimetype": "text/x-python",
   "name": "python",
   "nbconvert_exporter": "python",
   "pygments_lexer": "ipython3",
   "version": "3.9.13"
  }
 },
 "nbformat": 4,
 "nbformat_minor": 5
}
