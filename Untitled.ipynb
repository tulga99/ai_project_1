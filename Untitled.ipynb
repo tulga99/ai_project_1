{
 "cells": [
  {
   "cell_type": "code",
   "execution_count": 1,
   "id": "6d0db117",
   "metadata": {},
   "outputs": [
    {
     "name": "stdout",
     "output_type": "stream",
     "text": [
      "2\n"
     ]
    }
   ],
   "source": [
    "print(1+1)"
   ]
  },
  {
   "cell_type": "code",
   "execution_count": 2,
   "id": "694a3a17",
   "metadata": {},
   "outputs": [
    {
     "name": "stdout",
     "output_type": "stream",
     "text": [
      "各月の平均気温は、1月は6度、2月は7度.。\n"
     ]
    }
   ],
   "source": [
    "january_average_temperature = 6\n",
    "february_average_temperature = 7\n",
    "print(\"各月の平均気温は、1月は{}度、2月は{}度.。\".format(january_average_temperature, february_average_temperature))"
   ]
  },
  {
   "cell_type": "code",
   "execution_count": 3,
   "id": "cb3926de",
   "metadata": {},
   "outputs": [
    {
     "name": "stdout",
     "output_type": "stream",
     "text": [
      "[6, 7, 9, 15, 20, 22, 27, 26, 23, 17, 12, 7]\n",
      "<class 'list'>\n"
     ]
    }
   ],
   "source": [
    "monthly_average_temperatures = [6, 7, 9, 15, 20, 22, 27, 26, 23, 17, 12, 7]\n",
    "print(monthly_average_temperatures)\n",
    "print(type(monthly_average_temperatures))"
   ]
  },
  {
   "cell_type": "code",
   "execution_count": 4,
   "id": "4cc1c51c",
   "metadata": {},
   "outputs": [
    {
     "name": "stdout",
     "output_type": "stream",
     "text": [
      "[6, 22, 12]\n"
     ]
    }
   ],
   "source": [
    "print(monthly_average_temperatures[::5])\n"
   ]
  },
  {
   "cell_type": "code",
   "execution_count": 5,
   "id": "e4e4d502",
   "metadata": {},
   "outputs": [
    {
     "name": "stdout",
     "output_type": "stream",
     "text": [
      "[7, 12, 17, 23, 26, 27, 22, 20, 15, 9, 7, 6]\n"
     ]
    }
   ],
   "source": [
    "print(monthly_average_temperatures[::-1])"
   ]
  },
  {
   "cell_type": "code",
   "execution_count": 6,
   "id": "e69b93a3",
   "metadata": {},
   "outputs": [],
   "source": [
    "months = [\"January\", \"February\", \"March\", \"April\", \"May\", \"June\", \"July\", \"August\", \"September\", \"October\", \"November\", \"December\"]\n",
    "odd_and_even = [[0, 2, 4, 6, 8], [1, 3, 5, 7, 9]]\n",
    "mixed = [-5.5, \"Python\", 270, [\"a\", \"b\", \"c\"]]"
   ]
  },
  {
   "cell_type": "code",
   "execution_count": 7,
   "id": "87b5a3d9",
   "metadata": {},
   "outputs": [
    {
     "name": "stdout",
     "output_type": "stream",
     "text": [
      "[0, 1, 2, 3, 4]\n"
     ]
    }
   ],
   "source": [
    "numbers = [0, 1, 2, 3]\n",
    "numbers.append(4)\n",
    "print(numbers)\n"
   ]
  },
  {
   "cell_type": "code",
   "execution_count": 8,
   "id": "b4df7645",
   "metadata": {},
   "outputs": [
    {
     "name": "stdout",
     "output_type": "stream",
     "text": [
      "['alpha', 'beta']\n"
     ]
    }
   ],
   "source": [
    "texts = []\n",
    "texts.append(\"alpha\")\n",
    "texts.append(\"beta\")\n",
    "print(texts)"
   ]
  },
  {
   "cell_type": "code",
   "execution_count": 9,
   "id": "c598a2e6",
   "metadata": {},
   "outputs": [
    {
     "name": "stdout",
     "output_type": "stream",
     "text": [
      "None\n",
      "<class 'NoneType'>\n"
     ]
    }
   ],
   "source": [
    "# Mistake example\n",
    "numbers = [0, 1, 2, 3]\n",
    "numbers = numbers.append(4)\n",
    "print(numbers)\n",
    "print(type(numbers))"
   ]
  },
  {
   "cell_type": "code",
   "execution_count": 10,
   "id": "5f20f957",
   "metadata": {},
   "outputs": [
    {
     "name": "stdout",
     "output_type": "stream",
     "text": [
      "None\n",
      "[0, 1, 2, 3, 4]\n"
     ]
    }
   ],
   "source": [
    "numbers = [0, 1, 2, 3]\n",
    "print(numbers.append(4))\n",
    "print(numbers)"
   ]
  },
  {
   "cell_type": "code",
   "execution_count": 11,
   "id": "0f6ffc22",
   "metadata": {},
   "outputs": [
    {
     "name": "stdout",
     "output_type": "stream",
     "text": [
      "python\n",
      "python\n",
      "Python\n"
     ]
    }
   ],
   "source": [
    "text = \"python\"\n",
    "text.capitalize()\n",
    "print(text)\n",
    "capitalized_text = text.capitalize()\n",
    "print(text)\n",
    "print(capitalized_text)"
   ]
  },
  {
   "cell_type": "code",
   "execution_count": 12,
   "id": "ea61bf63",
   "metadata": {},
   "outputs": [
    {
     "name": "stdout",
     "output_type": "stream",
     "text": [
      "[1, 2, 3, 4, 5, 6]\n"
     ]
    }
   ],
   "source": [
    "print([1, 2, 3] + [4, 5, 6])\n"
   ]
  },
  {
   "cell_type": "code",
   "execution_count": 13,
   "id": "aa353e60",
   "metadata": {},
   "outputs": [
    {
     "name": "stdout",
     "output_type": "stream",
     "text": [
      "('A081', 'A114', 'A186')\n",
      "<class 'tuple'>\n"
     ]
    }
   ],
   "source": [
    "user_ids = (\"A081\", \"A114\", \"A186\")\n",
    "print(user_ids)\n",
    "print(type(user_ids))"
   ]
  },
  {
   "cell_type": "code",
   "execution_count": 14,
   "id": "c3ce31ab",
   "metadata": {},
   "outputs": [
    {
     "name": "stdout",
     "output_type": "stream",
     "text": [
      "A081\n"
     ]
    }
   ],
   "source": [
    "print(user_ids[0])\n"
   ]
  },
  {
   "cell_type": "code",
   "execution_count": 15,
   "id": "0850b3b0",
   "metadata": {},
   "outputs": [
    {
     "ename": "TypeError",
     "evalue": "'tuple' object does not support item assignment",
     "output_type": "error",
     "traceback": [
      "\u001b[0;31m---------------------------------------------------------------------------\u001b[0m",
      "\u001b[0;31mTypeError\u001b[0m                                 Traceback (most recent call last)",
      "Cell \u001b[0;32mIn[15], line 1\u001b[0m\n\u001b[0;32m----> 1\u001b[0m \u001b[43muser_ids\u001b[49m\u001b[43m[\u001b[49m\u001b[38;5;241;43m0\u001b[39;49m\u001b[43m]\u001b[49m \u001b[38;5;241m=\u001b[39m \u001b[38;5;124m\"\u001b[39m\u001b[38;5;124mA082\u001b[39m\u001b[38;5;124m\"\u001b[39m\n",
      "\u001b[0;31mTypeError\u001b[0m: 'tuple' object does not support item assignment"
     ]
    }
   ],
   "source": [
    "user_ids[0] = \"A082\""
   ]
  },
  {
   "cell_type": "code",
   "execution_count": 16,
   "id": "d5f2f04c",
   "metadata": {},
   "outputs": [
    {
     "name": "stdout",
     "output_type": "stream",
     "text": [
      "['A081', 'A114', 'A186']\n",
      "<class 'list'>\n",
      "['A082', 'A114', 'A186']\n"
     ]
    }
   ],
   "source": [
    "user_ids = [\"A081\", \"A114\", \"A186\"]\n",
    "print(user_ids)\n",
    "print(type(user_ids))\n",
    "user_ids[0] = \"A082\"\n",
    "print(user_ids)"
   ]
  },
  {
   "cell_type": "code",
   "execution_count": 17,
   "id": "d6fd88b8",
   "metadata": {},
   "outputs": [
    {
     "name": "stdout",
     "output_type": "stream",
     "text": [
      "('A081', 'A114', 'A186')\n",
      "<class 'tuple'>\n"
     ]
    }
   ],
   "source": [
    "user_ids = \"A081\", \"A114\", \"A186\"\n",
    "print(user_ids)\n",
    "print(type(user_ids))"
   ]
  },
  {
   "cell_type": "code",
   "execution_count": 18,
   "id": "bab23637",
   "metadata": {},
   "outputs": [
    {
     "name": "stdout",
     "output_type": "stream",
     "text": [
      "Aliceは20歳未満!!\n"
     ]
    }
   ],
   "source": [
    "student_name = \"Alice\"\n",
    "student_age = 19\n",
    "if student_age < 20:\n",
    "  print(\"{}は20歳未満!!\".format(student_name))\n",
    "else:\n",
    "  print(\"{}は20歳以上!!\".format(student_name))\n"
   ]
  },
  {
   "cell_type": "code",
   "execution_count": 19,
   "id": "cf222dbd",
   "metadata": {},
   "outputs": [
    {
     "name": "stdout",
     "output_type": "stream",
     "text": [
      "Aliceは20歳未満!!\n"
     ]
    }
   ],
   "source": [
    "student_name = \"Alice\"\n",
    "student_age = 19\n",
    "if student_age < 20:\n",
    "  print(\"{}は20歳未満!!\".format(student_name))\n",
    "else:\n",
    "  print(\"{}は20歳以上!!\".format(student_name))"
   ]
  },
  {
   "cell_type": "code",
   "execution_count": 22,
   "id": "fe9df575",
   "metadata": {},
   "outputs": [
    {
     "name": "stdout",
     "output_type": "stream",
     "text": [
      "0 0\n",
      "1 1\n",
      "2 2\n",
      "3 3\n",
      "4 4\n",
      "5 5\n",
      "6 6\n",
      "7 7\n",
      "8 8\n",
      "9 9\n"
     ]
    }
   ],
   "source": [
    "numbers = [0, 1, 2, 3, 4, 5, 6, 7, 8, 9]\n",
    "for i in range(len(numbers)):\n",
    "  print(i, numbers[i])"
   ]
  },
  {
   "cell_type": "code",
   "execution_count": null,
   "id": "65c090fd",
   "metadata": {},
   "outputs": [],
   "source": []
  }
 ],
 "metadata": {
  "kernelspec": {
   "display_name": "Python 3 (ipykernel)",
   "language": "python",
   "name": "python3"
  },
  "language_info": {
   "codemirror_mode": {
    "name": "ipython",
    "version": 3
   },
   "file_extension": ".py",
   "mimetype": "text/x-python",
   "name": "python",
   "nbconvert_exporter": "python",
   "pygments_lexer": "ipython3",
   "version": "3.11.6"
  }
 },
 "nbformat": 4,
 "nbformat_minor": 5
}
