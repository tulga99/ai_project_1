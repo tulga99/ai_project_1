{
 "cells": [
  {
   "cell_type": "code",
   "execution_count": 17,
   "id": "119fe4b9-16e2-4ec3-b789-035bf0e9a6be",
   "metadata": {},
   "outputs": [],
   "source": [
    "import gc\n",
    "import joblib\n",
    "import warnings\n",
    "import pandas as pd\n",
    "import numpy as np\n",
    "from tqdm import tqdm\n",
    "from scipy import stats\n",
    "from sklearn.svm import SVC\n",
    "from sklearn.metrics import roc_auc_score\n",
    "from sklearn.linear_model import LogisticRegression\n",
    "from sklearn.neighbors import KNeighborsClassifier\n",
    "from sklearn.tree import DecisionTreeClassifier\n",
    "from sklearn.ensemble import (RandomForestClassifier,\n",
    "                              GradientBoostingClassifier)\n",
    "from sklearn.model_selection import StratifiedKFold\n",
    "from sklearn.preprocessing import LabelEncoder\n",
    "\n",
    "warnings.filterwarnings('ignore')\n",
    "\n",
    "gc.enable()"
   ]
  },
  {
   "cell_type": "markdown",
   "id": "eb5b069c-e29c-4e59-a97b-710b9944031a",
   "metadata": {},
   "source": [
    "# [Problem 2] Learning and verification"
   ]
  },
  {
   "cell_type": "code",
   "execution_count": 18,
   "id": "109957a7-68c8-46f9-9d2e-5188e333a109",
   "metadata": {},
   "outputs": [
    {
     "data": {
      "text/plain": [
       "975"
      ]
     },
     "execution_count": 18,
     "metadata": {},
     "output_type": "execute_result"
    }
   ],
   "source": [
    "### Data load ####\n",
    "DEBUG = False\n",
    "REMOVE_OUTLIERS=True\n",
    "\n",
    "if DEBUG:\n",
    "    train_df = pd.read_csv('big_data/application_train.csv', nrows=1000)\n",
    "    test_df = pd.read_csv('big_data/application_test.csv', nrows=1000)\n",
    "else:\n",
    "    train_df = pd.read_csv('big_data/application_train.csv')\n",
    "    test_df = pd.read_csv('big_data/application_test.csv')\n",
    "\n",
    "train_df['isTrain'] = 'Train'\n",
    "test_df['isTrain'] = 'Test'\n",
    "\n",
    "test_df['TARGET'] = np.nan\n",
    "\n",
    "df = pd.concat([train_df, test_df[train_df.columns]], axis=0)\n",
    "df = df.reset_index(drop=True)\n",
    "\n",
    "del train_df, test_df\n",
    "gc.collect()"
   ]
  },
  {
   "cell_type": "code",
   "execution_count": 19,
   "id": "0f6fd2c6-e276-462d-b58d-6a64e4f829cc",
   "metadata": {},
   "outputs": [
    {
     "data": {
      "text/plain": [
       "(356255, 123)"
      ]
     },
     "execution_count": 19,
     "metadata": {},
     "output_type": "execute_result"
    }
   ],
   "source": [
    "df.shape"
   ]
  },
  {
   "cell_type": "markdown",
   "id": "3d4c7e39-d9e4-49ea-980b-0a698caac043",
   "metadata": {},
   "source": [
    "# [Problem 4] Feature engineering"
   ]
  },
  {
   "cell_type": "code",
   "execution_count": 20,
   "id": "99c58f45-59af-4272-920c-ddd62e8406b4",
   "metadata": {},
   "outputs": [
    {
     "name": "stdout",
     "output_type": "stream",
     "text": [
      "Number of cat cols: 58\n",
      "Number of numerical cols: 62\n"
     ]
    }
   ],
   "source": [
    "### Data preprocessing ###\n",
    "num_cols = []\n",
    "cat_cols = []\n",
    "should_be_encode = []\n",
    "not_useful_cols = ['SK_ID_CURR', 'TARGET', 'isTrain']\n",
    "\n",
    "for col in df.columns:\n",
    "    if col not in not_useful_cols:\n",
    "        unique_len = len(df[col].unique())\n",
    "        data_type = df[col].dtype\n",
    "\n",
    "        if unique_len<=20 and data_type!=\"object\":\n",
    "            cat_cols.append(col)\n",
    "        elif data_type=='object':\n",
    "            should_be_encode.append(col)\n",
    "        else:\n",
    "            num_cols.append(col)\n",
    "\n",
    "print('Number of cat cols:', len(cat_cols+should_be_encode))\n",
    "print('Number of numerical cols:', len(num_cols))"
   ]
  },
  {
   "cell_type": "code",
   "execution_count": 21,
   "id": "ec937c65-a3b5-4c71-a39e-58f69e81d313",
   "metadata": {},
   "outputs": [],
   "source": [
    "### Fill missing values ###\n",
    "missing_values = {}\n",
    "for col in num_cols:\n",
    "    num_missing_values = df[col].isnull().sum()\n",
    "    if num_missing_values>0:\n",
    "        df[col] = df[col].fillna(np.nanmean(df[col].values))\n",
    "        missing_values[col] = np.nanmean(df[col].values)"
   ]
  },
  {
   "cell_type": "code",
   "execution_count": 22,
   "id": "082b554f-33c0-4a5e-9a5c-e4e4707ee52c",
   "metadata": {},
   "outputs": [
    {
     "data": {
      "text/plain": [
       "{'AMT_ANNUITY': 27425.560656506248,\n",
       " 'AMT_GOODS_PRICE': 528019.9978004196,\n",
       " 'OWN_CAR_AGE': 12.023741054753998,\n",
       " 'EXT_SOURCE_1': 0.5019647173606229,\n",
       " 'EXT_SOURCE_2': 0.5148899751498333,\n",
       " 'EXT_SOURCE_3': 0.5093502021860116,\n",
       " 'APARTMENTS_AVG': 0.11813799565530579,\n",
       " 'BASEMENTAREA_AVG': 0.08867263218785101,\n",
       " 'YEARS_BEGINEXPLUATATION_AVG': 0.977889190913453,\n",
       " 'YEARS_BUILD_AVG': 0.7522831436693929,\n",
       " 'COMMONAREA_AVG': 0.045045127207006805,\n",
       " 'ELEVATORS_AVG': 0.07981886765365634,\n",
       " 'ENTRANCES_AVG': 0.15001510278440014,\n",
       " 'FLOORSMAX_AVG': 0.2273310098158009,\n",
       " 'FLOORSMIN_AVG': 0.2328165692549523,\n",
       " 'LANDAREA_AVG': 0.06645421391779162,\n",
       " 'LIVINGAPARTMENTS_AVG': 0.10149499540944239,\n",
       " 'LIVINGAREA_AVG': 0.10808933183069531,\n",
       " 'NONLIVINGAPARTMENTS_AVG': 0.008868181984386712,\n",
       " 'NONLIVINGAREA_AVG': 0.02850312046308469,\n",
       " 'APARTMENTS_MODE': 0.11491437095520877,\n",
       " 'BASEMENTAREA_MODE': 0.08774972119646735,\n",
       " 'YEARS_BEGINEXPLUATATION_MODE': 0.9772385752922698,\n",
       " 'YEARS_BUILD_MODE': 0.7594524439553474,\n",
       " 'COMMONAREA_MODE': 0.0429304796329765,\n",
       " 'ELEVATORS_MODE': 0.07534643816360101,\n",
       " 'ENTRANCES_MODE': 0.14547112253160002,\n",
       " 'FLOORSMAX_MODE': 0.22331479818135327,\n",
       " 'FLOORSMIN_MODE': 0.2288777849184086,\n",
       " 'LANDAREA_MODE': 0.06509245517876915,\n",
       " 'LIVINGAPARTMENTS_MODE': 0.1063818328683923,\n",
       " 'LIVINGAREA_MODE': 0.10664057290878201,\n",
       " 'NONLIVINGAPARTMENTS_MODE': 0.008115959741850557,\n",
       " 'NONLIVINGAREA_MODE': 0.027183161462779378,\n",
       " 'APARTMENTS_MEDI': 0.11854904116115642,\n",
       " 'BASEMENTAREA_MEDI': 0.08817830982504994,\n",
       " 'YEARS_BEGINEXPLUATATION_MEDI': 0.9779032754972954,\n",
       " 'YEARS_BUILD_MEDI': 0.7555483438794822,\n",
       " 'COMMONAREA_MEDI': 0.044994403818527255,\n",
       " 'ELEVATORS_MEDI': 0.07893034245551069,\n",
       " 'ENTRANCES_MEDI': 0.14949398981152442,\n",
       " 'FLOORSMAX_MEDI': 0.2269220577609303,\n",
       " 'FLOORSMIN_MEDI': 0.23250437614527508,\n",
       " 'LANDAREA_MEDI': 0.0672956069348261,\n",
       " 'LIVINGAPARTMENTS_MEDI': 0.10267445972668529,\n",
       " 'LIVINGAREA_MEDI': 0.10927921705830572,\n",
       " 'NONLIVINGAPARTMENTS_MEDI': 0.008697156151160026,\n",
       " 'NONLIVINGAREA_MEDI': 0.028385637644947614,\n",
       " 'TOTALAREA_MODE': 0.10319287473002153,\n",
       " 'OBS_30_CNT_SOCIAL_CIRCLE': 1.4257288044931797,\n",
       " 'OBS_60_CNT_SOCIAL_CIRCLE': 1.4094677721315862,\n",
       " 'DAYS_LAST_PHONE_CHANGE': -978.5808524255165,\n",
       " 'AMT_REQ_CREDIT_BUREAU_MON': 0.23169747997162177,\n",
       " 'AMT_REQ_CREDIT_BUREAU_YEAR': 1.9115641410231068}"
      ]
     },
     "execution_count": 22,
     "metadata": {},
     "output_type": "execute_result"
    }
   ],
   "source": [
    "missing_values"
   ]
  },
  {
   "cell_type": "code",
   "execution_count": 23,
   "id": "5d9c6221-a51e-4b2c-8264-feacf6505c0a",
   "metadata": {},
   "outputs": [],
   "source": [
    "## fill missing values and encoding \n",
    "for col in should_be_encode:\n",
    "    num_missing_values = df[col].isnull().sum()\n",
    "    if num_missing_values > 0:\n",
    "        df[col] = df[col].fillna(df[col].mode())\n",
    "        missing_values[col] = (df[col].mode())"
   ]
  },
  {
   "cell_type": "code",
   "execution_count": 24,
   "id": "a9af5da9-0d2e-4428-af3c-9f4dd40b3c27",
   "metadata": {},
   "outputs": [],
   "source": [
    "### fill categorical variables \n",
    "for col in cat_cols:\n",
    "    num_missing_values = df[col].isnull().sum()\n",
    "    if num_missing_values > 0:\n",
    "        df[col] = df[col].fillna(df[col].median())\n",
    "        missing_values[col] = (df[col].median())"
   ]
  },
  {
   "cell_type": "code",
   "execution_count": 25,
   "id": "91edff36-1c91-4aa4-9d19-94a337faab4b",
   "metadata": {},
   "outputs": [
    {
     "data": {
      "text/plain": [
       "['big_data/dump/missing_values.pkl']"
      ]
     },
     "execution_count": 25,
     "metadata": {},
     "output_type": "execute_result"
    }
   ],
   "source": [
    "joblib.dump(missing_values, 'big_data/dump/missing_values.pkl')"
   ]
  },
  {
   "cell_type": "code",
   "execution_count": 26,
   "id": "f22f68d9-b796-49b4-b179-8ea53816e350",
   "metadata": {},
   "outputs": [
    {
     "data": {
      "text/plain": [
       "['big_data/dump/encoders.pkl']"
      ]
     },
     "execution_count": 26,
     "metadata": {},
     "output_type": "execute_result"
    }
   ],
   "source": [
    "#### label encoding ####\n",
    "encoders = {}\n",
    "for col in should_be_encode:\n",
    "    encoder = LabelEncoder().fit(df[col])\n",
    "    encoders[col] = encoder\n",
    "    df[col] = encoder.transform(df[col])\n",
    "\n",
    "joblib.dump(encoders, \"big_data/dump/encoders.pkl\",)"
   ]
  },
  {
   "cell_type": "code",
   "execution_count": 27,
   "id": "2cc953c8-a1bf-4c90-8aab-13afb0062daa",
   "metadata": {},
   "outputs": [
    {
     "data": {
      "text/plain": [
       "0"
      ]
     },
     "execution_count": 27,
     "metadata": {},
     "output_type": "execute_result"
    }
   ],
   "source": [
    "### verify ####\n",
    "for col in cat_cols+should_be_encode+num_cols:\n",
    "    if df[col].isnull().sum()>0:\n",
    "        print(col, df[col].dtype, df[col].isnull().sum())\n",
    "\n",
    "cat_cols = cat_cols + should_be_encode\n",
    "del should_be_encode\n",
    "gc.collect()"
   ]
  },
  {
   "cell_type": "code",
   "execution_count": 29,
   "id": "4714cfe0-eff4-4e81-b855-eae41c4ac8eb",
   "metadata": {},
   "outputs": [
    {
     "name": "stderr",
     "output_type": "stream",
     "text": [
      "  0%|                                                                                           | 0/58 [00:00<?, ?it/s]\n",
      "100%|█████████████████████████████████████████████████████████████████████████████████| 16/16 [00:00<00:00, 229.98it/s]\u001b[A\n",
      "\n",
      "100%|███████████████████████████████████████████████████████████████████████████████████| 2/2 [00:00<00:00, 249.86it/s]\u001b[A\n",
      "\n",
      "100%|███████████████████████████████████████████████████████████████████████████████████| 2/2 [00:00<00:00, 181.89it/s]\u001b[A\n",
      "  5%|████▎                                                                              | 3/58 [00:00<00:02, 24.88it/s]\n",
      "100%|███████████████████████████████████████████████████████████████████████████████████| 2/2 [00:00<00:00, 181.29it/s]\u001b[A\n",
      "\n",
      "100%|███████████████████████████████████████████████████████████████████████████████████| 2/2 [00:00<00:00, 285.77it/s]\u001b[A\n",
      "\n",
      "100%|███████████████████████████████████████████████████████████████████████████████████| 2/2 [00:00<00:00, 142.87it/s]\u001b[A\n",
      "\n",
      "100%|███████████████████████████████████████████████████████████████████████████████████| 2/2 [00:00<00:00, 250.29it/s]\u001b[A\n",
      "\n",
      "100%|█████████████████████████████████████████████████████████████████████████████████| 18/18 [00:00<00:00, 312.73it/s]\u001b[A\n",
      " 14%|███████████▍                                                                       | 8/58 [00:00<00:01, 29.39it/s]\n",
      "100%|███████████████████████████████████████████████████████████████████████████████████| 3/3 [00:00<00:00, 176.46it/s]\u001b[A\n",
      "\n",
      "100%|███████████████████████████████████████████████████████████████████████████████████| 4/4 [00:00<00:00, 221.90it/s]\u001b[A\n",
      "\n",
      "100%|███████████████████████████████████████████████████████████████████████████████████| 2/2 [00:00<00:00, 117.61it/s]\u001b[A\n",
      " 19%|███████████████▌                                                                  | 11/58 [00:00<00:01, 29.38it/s]\n",
      "100%|███████████████████████████████████████████████████████████████████████████████████| 2/2 [00:00<00:00, 111.10it/s]\u001b[A\n",
      "\n",
      "100%|███████████████████████████████████████████████████████████████████████████████████| 2/2 [00:00<00:00, 221.89it/s]\u001b[A\n",
      "\n",
      "100%|███████████████████████████████████████████████████████████████████████████████████| 2/2 [00:00<00:00, 209.46it/s]\u001b[A\n",
      "\n",
      "100%|███████████████████████████████████████████████████████████████████████████████████| 2/2 [00:00<00:00, 181.76it/s]\u001b[A\n",
      "\n",
      "100%|███████████████████████████████████████████████████████████████████████████████████| 2/2 [00:00<00:00, 181.88it/s]\u001b[A\n",
      " 28%|██████████████████████▌                                                           | 16/58 [00:00<00:01, 33.75it/s]\n",
      "100%|█████████████████████████████████████████████████████████████████████████████████| 10/10 [00:00<00:00, 214.77it/s]\u001b[A\n",
      "\n",
      "100%|███████████████████████████████████████████████████████████████████████████████████| 9/9 [00:00<00:00, 333.34it/s]\u001b[A\n",
      "\n",
      "100%|███████████████████████████████████████████████████████████████████████████████████| 2/2 [00:00<00:00, 250.17it/s]\u001b[A\n",
      "\n",
      "100%|███████████████████████████████████████████████████████████████████████████████████| 2/2 [00:00<00:00, 159.48it/s]\u001b[A\n",
      " 34%|████████████████████████████▎                                                     | 20/58 [00:00<00:01, 30.78it/s]\n",
      "100%|███████████████████████████████████████████████████████████████████████████████████| 2/2 [00:00<00:00, 199.90it/s]\u001b[A\n",
      "\n",
      "100%|███████████████████████████████████████████████████████████████████████████████████| 2/2 [00:00<00:00, 285.79it/s]\u001b[A\n",
      "\n",
      "100%|███████████████████████████████████████████████████████████████████████████████████| 2/2 [00:00<00:00, 199.91it/s]\u001b[A\n",
      "\n",
      "100%|███████████████████████████████████████████████████████████████████████████████████| 2/2 [00:00<00:00, 249.94it/s]\u001b[A\n",
      "\n",
      "100%|███████████████████████████████████████████████████████████████████████████████████| 2/2 [00:00<00:00, 232.40it/s]\u001b[A\n",
      "\n",
      "100%|███████████████████████████████████████████████████████████████████████████████████| 2/2 [00:00<00:00, 117.66it/s]\u001b[A\n",
      " 45%|████████████████████████████████████▊                                             | 26/58 [00:00<00:00, 35.67it/s]\n",
      "100%|███████████████████████████████████████████████████████████████████████████████████| 2/2 [00:00<00:00, 285.71it/s]\u001b[A\n",
      "\n",
      "100%|███████████████████████████████████████████████████████████████████████████████████| 2/2 [00:00<00:00, 285.62it/s]\u001b[A\n",
      "\n",
      "100%|███████████████████████████████████████████████████████████████████████████████████| 2/2 [00:00<00:00, 128.77it/s]\u001b[A\n",
      "\n",
      "100%|███████████████████████████████████████████████████████████████████████████████████| 2/2 [00:00<00:00, 250.26it/s]\u001b[A\n",
      "\n",
      "100%|███████████████████████████████████████████████████████████████████████████████████| 2/2 [00:00<00:00, 285.83it/s]\u001b[A\n",
      " 53%|███████████████████████████████████████████▊                                      | 31/58 [00:00<00:00, 38.12it/s]\n",
      "100%|███████████████████████████████████████████████████████████████████████████████████| 2/2 [00:00<00:00, 249.92it/s]\u001b[A\n",
      "\n",
      "100%|███████████████████████████████████████████████████████████████████████████████████| 2/2 [00:00<00:00, 181.53it/s]\u001b[A\n",
      "\n",
      "100%|███████████████████████████████████████████████████████████████████████████████████| 2/2 [00:00<00:00, 284.98it/s]\u001b[A\n",
      "\n",
      "100%|███████████████████████████████████████████████████████████████████████████████████| 2/2 [00:00<00:00, 250.09it/s]\u001b[A\n",
      "\n",
      "100%|███████████████████████████████████████████████████████████████████████████████████| 2/2 [00:00<00:00, 249.99it/s]\u001b[A\n",
      "\n",
      "100%|███████████████████████████████████████████████████████████████████████████████████| 2/2 [00:00<00:00, 285.99it/s]\u001b[A\n",
      " 64%|████████████████████████████████████████████████████▎                             | 37/58 [00:01<00:00, 42.79it/s]\n",
      "100%|███████████████████████████████████████████████████████████████████████████████████| 2/2 [00:00<00:00, 249.88it/s]\u001b[A\n",
      "\n",
      "100%|███████████████████████████████████████████████████████████████████████████████████| 5/5 [00:00<00:00, 322.24it/s]\u001b[A\n",
      "\n",
      "100%|███████████████████████████████████████████████████████████████████████████████████| 9/9 [00:00<00:00, 359.97it/s]\u001b[A\n",
      "\n",
      "100%|███████████████████████████████████████████████████████████████████████████████████| 9/9 [00:00<00:00, 359.71it/s]\u001b[A\n",
      "\n",
      "100%|█████████████████████████████████████████████████████████████████████████████████| 11/11 [00:00<00:00, 297.34it/s]\u001b[A\n",
      " 72%|███████████████████████████████████████████████████████████▍                      | 42/58 [00:01<00:00, 36.74it/s]\n",
      "100%|████████████████████████████████████████████████████████████████████████████████████| 2/2 [00:00<00:00, 95.26it/s]\u001b[A\n",
      "\n",
      "100%|███████████████████████████████████████████████████████████████████████████████████| 3/3 [00:00<00:00, 193.06it/s]\u001b[A\n",
      "\n",
      "100%|███████████████████████████████████████████████████████████████████████████████████| 2/2 [00:00<00:00, 153.89it/s]\u001b[A\n",
      "\n",
      "100%|███████████████████████████████████████████████████████████████████████████████████| 2/2 [00:00<00:00, 166.68it/s]\u001b[A\n",
      " 79%|█████████████████████████████████████████████████████████████████                 | 46/58 [00:01<00:00, 35.35it/s]\n",
      "100%|███████████████████████████████████████████████████████████████████████████████████| 8/8 [00:00<00:00, 261.52it/s]\u001b[A\n",
      "\n",
      "100%|███████████████████████████████████████████████████████████████████████████████████| 8/8 [00:00<00:00, 258.10it/s]\u001b[A\n",
      "\n",
      "100%|███████████████████████████████████████████████████████████████████████████████████| 5/5 [00:00<00:00, 144.75it/s]\u001b[A\n",
      "\n",
      "100%|███████████████████████████████████████████████████████████████████████████████████| 6/6 [00:00<00:00, 249.99it/s]\u001b[A\n",
      " 86%|██████████████████████████████████████████████████████████████████████▋           | 50/58 [00:01<00:00, 31.09it/s]\n",
      "100%|███████████████████████████████████████████████████████████████████████████████████| 6/6 [00:00<00:00, 315.76it/s]\u001b[A\n",
      "\n",
      "100%|█████████████████████████████████████████████████████████████████████████████████| 19/19 [00:00<00:00, 319.72it/s]\u001b[A\n",
      "\n",
      "100%|███████████████████████████████████████████████████████████████████████████████████| 7/7 [00:00<00:00, 225.82it/s]\u001b[A\n",
      "\n",
      "  0%|                                                                                           | 0/58 [00:00<?, ?it/s]\u001b[A\n",
      "100%|█████████████████████████████████████████████████████████████████████████████████| 58/58 [00:00<00:00, 351.16it/s]\u001b[A\n",
      " 93%|████████████████████████████████████████████████████████████████████████████▎     | 54/58 [00:01<00:00, 21.85it/s]\n",
      "100%|███████████████████████████████████████████████████████████████████████████████████| 5/5 [00:00<00:00, 144.65it/s]\u001b[A\n",
      "\n",
      "100%|███████████████████████████████████████████████████████████████████████████████████| 4/4 [00:00<00:00, 210.66it/s]\u001b[A\n",
      "\n",
      "100%|███████████████████████████████████████████████████████████████████████████████████| 8/8 [00:00<00:00, 266.58it/s]\u001b[A\n",
      " 98%|████████████████████████████████████████████████████████████████████████████████▌ | 57/58 [00:01<00:00, 21.98it/s]\n",
      "100%|███████████████████████████████████████████████████████████████████████████████████| 3/3 [00:00<00:00, 187.54it/s]\u001b[A\n",
      "100%|██████████████████████████████████████████████████████████████████████████████████| 58/58 [00:01<00:00, 29.37it/s]\n"
     ]
    },
    {
     "data": {
      "text/plain": [
       "807"
      ]
     },
     "execution_count": 29,
     "metadata": {},
     "output_type": "execute_result"
    }
   ],
   "source": [
    "#### onehot encoding ####\n",
    "dummy_cols = []\n",
    "map_dummy = {}\n",
    "for col in tqdm(cat_cols, total=len(cat_cols)):\n",
    "    for value in tqdm(df[col].unique()):\n",
    "        df[f'dummy_{col}_{value}'] = 0\n",
    "        df.loc[df[col]==value, f'dummy_{col}_{value}'] = 1\n",
    "        dummy_cols.append(f'dummy_{col}_{value}')\n",
    "        map_dummy[col] = f\"dummy_{col}_{value}\"\n",
    "\n",
    "joblib.dump(map_dummy, 'big_data/dump/map_dummy.pkl')\n",
    "\n",
    "del cat_cols\n",
    "gc.collect()"
   ]
  },
  {
   "cell_type": "code",
   "execution_count": 30,
   "id": "b0c705e2-1cd7-411b-9a80-ddc13c6c6962",
   "metadata": {},
   "outputs": [
    {
     "data": {
      "text/plain": [
       "(356255, 427)"
      ]
     },
     "execution_count": 30,
     "metadata": {},
     "output_type": "execute_result"
    }
   ],
   "source": [
    "df.shape"
   ]
  },
  {
   "cell_type": "code",
   "execution_count": 31,
   "id": "a946e2b9-3496-4294-a5d7-067d72fd8af1",
   "metadata": {},
   "outputs": [
    {
     "data": {
      "text/plain": [
       "0"
      ]
     },
     "execution_count": 31,
     "metadata": {},
     "output_type": "execute_result"
    }
   ],
   "source": [
    "### outlier remove ####\n",
    "train_df = df.loc[df['isTrain']=='Train'].reset_index(drop=True)\n",
    "test_df = df.loc[df['isTrain']=='Test'].reset_index(drop=True)\n",
    "\n",
    "del df\n",
    "gc.collect()"
   ]
  },
  {
   "cell_type": "code",
   "execution_count": 32,
   "id": "cc67deff-35c1-494e-8073-44ebb5cf4d66",
   "metadata": {},
   "outputs": [
    {
     "data": {
      "text/plain": [
       "['big_data/dump/dummy_cols.pkl']"
      ]
     },
     "execution_count": 32,
     "metadata": {},
     "output_type": "execute_result"
    }
   ],
   "source": [
    "outlier_idx = []\n",
    "for col in num_cols:\n",
    "    z_score = stats.zscore(train_df[col])\n",
    "    outlier_idx = outlier_idx + list(train_df.loc[(np.abs(z_score)>3)].index)\n",
    "\n",
    "outlier_idx = list(set(outlier_idx))\n",
    "\n",
    "if REMOVE_OUTLIERS:\n",
    "    train_df = train_df.drop(index=outlier_idx,\n",
    "                             axis=0).reset_index(drop=True)\n",
    "\n",
    "joblib.dump(num_cols, 'big_data/dump/num_cols.pkl')\n",
    "joblib.dump(dummy_cols, 'big_data/dump/dummy_cols.pkl')"
   ]
  },
  {
   "cell_type": "code",
   "execution_count": 33,
   "id": "9df0c067-8fe3-4453-abd4-d838a1184c15",
   "metadata": {},
   "outputs": [
    {
     "name": "stdout",
     "output_type": "stream",
     "text": [
      "Class ratio = 0.08373467777008199\n"
     ]
    }
   ],
   "source": [
    "print(f\"Class ratio = {train_df['TARGET'].sum()/train_df.shape[0]}\" )"
   ]
  },
  {
   "cell_type": "code",
   "execution_count": 34,
   "id": "2fe2f6e0-6ee3-4e45-a1a2-22af5223f939",
   "metadata": {},
   "outputs": [
    {
     "name": "stdout",
     "output_type": "stream",
     "text": [
      "FOLD-0: AUC score=0.747\n",
      "FOLD-1: AUC score=0.746\n",
      "FOLD-2: AUC score=0.743\n",
      "FOLD-3: AUC score=0.751\n",
      "FOLD-4: AUC score=0.753\n"
     ]
    },
    {
     "data": {
      "text/plain": [
       "['big_data/dump/models.pkl']"
      ]
     },
     "execution_count": 34,
     "metadata": {},
     "output_type": "execute_result"
    }
   ],
   "source": [
    "### Modelling ###\n",
    "skf = StratifiedKFold(n_splits=5,\n",
    "                      shuffle=True,\n",
    "                      random_state=42)\n",
    "\n",
    "models = []\n",
    "for fold, (train_idx, val_idx) in enumerate(skf.split(train_df,\n",
    "                                                      train_df['TARGET'],\n",
    "                                                      groups=train_df['TARGET'])):\n",
    "    train_set = train_df.loc[train_idx]\n",
    "    val_set = train_df.loc[val_idx]\n",
    "\n",
    "    model = GradientBoostingClassifier().fit(train_set[num_cols+dummy_cols],\n",
    "                                     train_set['TARGET'])\n",
    "    models.append(model)\n",
    "\n",
    "    y_pred = model.predict_proba(val_set[num_cols+dummy_cols])[:, 1]\n",
    "\n",
    "    auc_score = roc_auc_score(val_set['TARGET'], y_pred)\n",
    "    print(f\"FOLD-{fold}: AUC score={np.round(auc_score, 3)}\")\n",
    "\n",
    "joblib.dump(models, 'big_data/dump/models.pkl')"
   ]
  },
  {
   "cell_type": "markdown",
   "id": "31226e38-764c-4bb9-bbe5-a4c1e1641443",
   "metadata": {},
   "source": [
    "# [Problem 3] Estimation on test data"
   ]
  },
  {
   "cell_type": "code",
   "execution_count": 35,
   "id": "08058b44-6fa5-415d-bcf8-4aa9b5e69e8a",
   "metadata": {},
   "outputs": [],
   "source": [
    "test_df = pd.read_csv('big_data/application_test.csv')"
   ]
  },
  {
   "cell_type": "code",
   "execution_count": 36,
   "id": "30245158-433e-4bf2-bc63-ddcc4d44182b",
   "metadata": {},
   "outputs": [
    {
     "data": {
      "text/plain": [
       "(48744, 121)"
      ]
     },
     "execution_count": 36,
     "metadata": {},
     "output_type": "execute_result"
    }
   ],
   "source": [
    "test_df.shape"
   ]
  },
  {
   "cell_type": "code",
   "execution_count": 37,
   "id": "3f12264b-fc90-4799-9c7f-6ad3d177a1a5",
   "metadata": {},
   "outputs": [
    {
     "name": "stderr",
     "output_type": "stream",
     "text": [
      "  0%|                                                                                           | 0/58 [00:00<?, ?it/s]\n",
      "100%|█████████████████████████████████████████████████████████████████████████████████| 11/11 [00:00<00:00, 610.96it/s]\u001b[A\n",
      "\n",
      "100%|███████████████████████████████████████████████████████████████████████████████████| 2/2 [00:00<00:00, 307.11it/s]\u001b[A\n",
      "\n",
      "100%|███████████████████████████████████████████████████████████████████████████████████| 2/2 [00:00<00:00, 501.44it/s]\u001b[A\n",
      "\n",
      "100%|███████████████████████████████████████████████████████████████████████████████████| 2/2 [00:00<00:00, 500.16it/s]\u001b[A\n",
      "\n",
      "100%|███████████████████████████████████████████████████████████████████████████████████| 2/2 [00:00<00:00, 668.47it/s]\u001b[A\n",
      "\n",
      "100%|███████████████████████████████████████████████████████████████████████████████████| 2/2 [00:00<00:00, 500.22it/s]\u001b[A\n",
      "\n",
      "100%|███████████████████████████████████████████████████████████████████████████████████| 2/2 [00:00<00:00, 333.28it/s]\u001b[A\n",
      " 12%|██████████                                                                         | 7/58 [00:00<00:00, 62.76it/s]\n",
      "100%|█████████████████████████████████████████████████████████████████████████████████| 12/12 [00:00<00:00, 599.29it/s]\u001b[A\n",
      "\n",
      "100%|███████████████████████████████████████████████████████████████████████████████████| 3/3 [00:00<00:00, 500.14it/s]\u001b[A\n",
      "\n",
      "100%|███████████████████████████████████████████████████████████████████████████████████| 4/4 [00:00<00:00, 499.96it/s]\u001b[A\n",
      "\n",
      "100%|███████████████████████████████████████████████████████████████████████████████████| 2/2 [00:00<00:00, 499.77it/s]\u001b[A\n",
      "\n",
      "100%|███████████████████████████████████████████████████████████████████████████████████| 2/2 [00:00<00:00, 666.45it/s]\u001b[A\n",
      "\n",
      "100%|███████████████████████████████████████████████████████████████████████████████████| 2/2 [00:00<00:00, 499.77it/s]\u001b[A\n",
      "\n",
      "100%|███████████████████████████████████████████████████████████████████████████████████| 2/2 [00:00<00:00, 665.23it/s]\u001b[A\n",
      "\n",
      "100%|███████████████████████████████████████████████████████████████████████████████████| 2/2 [00:00<00:00, 200.14it/s]\u001b[A\n",
      " 26%|█████████████████████▏                                                            | 15/58 [00:00<00:00, 69.12it/s]\n",
      "100%|███████████████████████████████████████████████████████████████████████████████████| 2/2 [00:00<00:00, 500.22it/s]\u001b[A\n",
      "\n",
      "100%|███████████████████████████████████████████████████████████████████████████████████| 8/8 [00:00<00:00, 533.08it/s]\u001b[A\n",
      "\n",
      "100%|███████████████████████████████████████████████████████████████████████████████████| 7/7 [00:00<00:00, 583.41it/s]\u001b[A\n",
      "\n",
      "100%|███████████████████████████████████████████████████████████████████████████████████| 1/1 [00:00<00:00, 249.97it/s]\u001b[A\n",
      "\n",
      "100%|███████████████████████████████████████████████████████████████████████████████████| 2/2 [00:00<00:00, 332.83it/s]\u001b[A\n",
      "\n",
      "100%|███████████████████████████████████████████████████████████████████████████████████| 2/2 [00:00<00:00, 333.34it/s]\u001b[A\n",
      "\n",
      "100%|███████████████████████████████████████████████████████████████████████████████████| 2/2 [00:00<00:00, 501.17it/s]\u001b[A\n",
      " 38%|███████████████████████████████                                                   | 22/58 [00:00<00:00, 67.59it/s]\n",
      "100%|███████████████████████████████████████████████████████████████████████████████████| 2/2 [00:00<00:00, 500.66it/s]\u001b[A\n",
      "\n",
      "100%|███████████████████████████████████████████████████████████████████████████████████| 2/2 [00:00<00:00, 400.51it/s]\u001b[A\n",
      "\n",
      "100%|███████████████████████████████████████████████████████████████████████████████████| 2/2 [00:00<00:00, 499.89it/s]\u001b[A\n",
      "\n",
      "100%|███████████████████████████████████████████████████████████████████████████████████| 2/2 [00:00<00:00, 500.51it/s]\u001b[A\n",
      "\n",
      "100%|███████████████████████████████████████████████████████████████████████████████████| 1/1 [00:00<00:00, 500.27it/s]\u001b[A\n",
      "\n",
      "100%|███████████████████████████████████████████████████████████████████████████████████| 2/2 [00:00<00:00, 501.26it/s]\u001b[A\n",
      "\n",
      "100%|███████████████████████████████████████████████████████████████████████████████████| 1/1 [00:00<00:00, 500.69it/s]\u001b[A\n",
      "\n",
      "100%|███████████████████████████████████████████████████████████████████████████████████| 1/1 [00:00<00:00, 498.55it/s]\u001b[A\n",
      "\n",
      "100%|███████████████████████████████████████████████████████████████████████████████████| 1/1 [00:00<00:00, 333.07it/s]\u001b[A\n",
      "\n",
      "100%|███████████████████████████████████████████████████████████████████████████████████| 1/1 [00:00<00:00, 500.39it/s]\u001b[A\n",
      "\n",
      "100%|███████████████████████████████████████████████████████████████████████████████████| 1/1 [00:00<00:00, 333.33it/s]\u001b[A\n",
      " 57%|██████████████████████████████████████████████▋                                   | 33/58 [00:00<00:00, 81.52it/s]\n",
      "100%|███████████████████████████████████████████████████████████████████████████████████| 1/1 [00:00<00:00, 166.59it/s]\u001b[A\n",
      "\n",
      "100%|███████████████████████████████████████████████████████████████████████████████████| 2/2 [00:00<00:00, 209.59it/s]\u001b[A\n",
      "\n",
      "100%|███████████████████████████████████████████████████████████████████████████████████| 1/1 [00:00<00:00, 333.28it/s]\u001b[A\n",
      "\n",
      "100%|███████████████████████████████████████████████████████████████████████████████████| 1/1 [00:00<00:00, 499.98it/s]\u001b[A\n",
      "\n",
      "100%|███████████████████████████████████████████████████████████████████████████████████| 1/1 [00:00<00:00, 200.10it/s]\u001b[A\n",
      "\n",
      "100%|███████████████████████████████████████████████████████████████████████████████████| 3/3 [00:00<00:00, 230.89it/s]\u001b[A\n",
      "\n",
      "100%|███████████████████████████████████████████████████████████████████████████████████| 3/3 [00:00<00:00, 428.34it/s]\u001b[A\n",
      "\n",
      "100%|███████████████████████████████████████████████████████████████████████████████████| 3/3 [00:00<00:00, 429.51it/s]\u001b[A\n",
      "\n",
      "100%|███████████████████████████████████████████████████████████████████████████████████| 8/8 [00:00<00:00, 551.78it/s]\u001b[A\n",
      " 72%|███████████████████████████████████████████████████████████▍                      | 42/58 [00:00<00:00, 78.72it/s]\n",
      "100%|███████████████████████████████████████████████████████████████████████████████████| 2/2 [00:00<00:00, 400.51it/s]\u001b[A\n",
      "\n",
      "100%|███████████████████████████████████████████████████████████████████████████████████| 2/2 [00:00<00:00, 333.54it/s]\u001b[A\n",
      "\n",
      "100%|███████████████████████████████████████████████████████████████████████████████████| 2/2 [00:00<00:00, 399.80it/s]\u001b[A\n",
      "\n",
      "100%|███████████████████████████████████████████████████████████████████████████████████| 2/2 [00:00<00:00, 400.07it/s]\u001b[A\n",
      "\n",
      "100%|███████████████████████████████████████████████████████████████████████████████████| 8/8 [00:00<00:00, 571.39it/s]\u001b[A\n",
      "\n",
      "100%|███████████████████████████████████████████████████████████████████████████████████| 7/7 [00:00<00:00, 538.46it/s]\u001b[A\n",
      "\n",
      "100%|███████████████████████████████████████████████████████████████████████████████████| 5/5 [00:00<00:00, 472.17it/s]\u001b[A\n",
      "\n",
      "100%|███████████████████████████████████████████████████████████████████████████████████| 5/5 [00:00<00:00, 499.96it/s]\u001b[A\n",
      " 86%|██████████████████████████████████████████████████████████████████████▋           | 50/58 [00:00<00:00, 75.42it/s]\n",
      "100%|███████████████████████████████████████████████████████████████████████████████████| 6/6 [00:00<00:00, 545.97it/s]\u001b[A\n",
      "\n",
      "100%|█████████████████████████████████████████████████████████████████████████████████| 19/19 [00:00<00:00, 395.70it/s]\u001b[A\n",
      "\n",
      "100%|███████████████████████████████████████████████████████████████████████████████████| 7/7 [00:00<00:00, 423.15it/s]\u001b[A\n",
      "\n",
      "  0%|                                                                                           | 0/58 [00:00<?, ?it/s]\u001b[A\n",
      "100%|█████████████████████████████████████████████████████████████████████████████████| 58/58 [00:00<00:00, 459.94it/s]\u001b[A\n",
      "\n",
      "100%|███████████████████████████████████████████████████████████████████████████████████| 5/5 [00:00<00:00, 454.52it/s]\u001b[A\n",
      "\n",
      "100%|███████████████████████████████████████████████████████████████████████████████████| 4/4 [00:00<00:00, 399.41it/s]\u001b[A\n",
      "\n",
      "100%|███████████████████████████████████████████████████████████████████████████████████| 8/8 [00:00<00:00, 339.82it/s]\u001b[A\n",
      "\n",
      "100%|███████████████████████████████████████████████████████████████████████████████████| 3/3 [00:00<00:00, 375.26it/s]\u001b[A\n",
      "100%|██████████████████████████████████████████████████████████████████████████████████| 58/58 [00:00<00:00, 58.64it/s]\n"
     ]
    }
   ],
   "source": [
    "# data preprocess on new data\n",
    "\n",
    "#missing values\n",
    "missing_values = joblib.load('big_data/dump/missing_values.pkl')\n",
    "for col in missing_values.keys():\n",
    "    test_df.loc[test_df[col].isnull(), col] = missing_values[col]\n",
    "\n",
    "## encoding ###\n",
    "encoders = joblib.load('big_data/dump/encoders.pkl')\n",
    "for col in encoders.keys():\n",
    "    test_df[col] = encoders[col].transform(test_df[col])\n",
    "\n",
    "### dummmy\n",
    "cat_cols = ['CNT_CHILDREN', 'FLAG_MOBIL', 'FLAG_EMP_PHONE', 'FLAG_WORK_PHONE', 'FLAG_CONT_MOBILE', 'FLAG_PHONE', 'FLAG_EMAIL', 'CNT_FAM_MEMBERS', 'REGION_RATING_CLIENT', 'REGION_RATING_CLIENT_W_CITY', 'REG_REGION_NOT_LIVE_REGION', 'REG_REGION_NOT_WORK_REGION', 'LIVE_REGION_NOT_WORK_REGION', 'REG_CITY_NOT_LIVE_CITY', 'REG_CITY_NOT_WORK_CITY', 'LIVE_CITY_NOT_WORK_CITY', 'DEF_30_CNT_SOCIAL_CIRCLE', 'DEF_60_CNT_SOCIAL_CIRCLE', 'FLAG_DOCUMENT_2', 'FLAG_DOCUMENT_3', 'FLAG_DOCUMENT_4', 'FLAG_DOCUMENT_5', 'FLAG_DOCUMENT_6', 'FLAG_DOCUMENT_7', 'FLAG_DOCUMENT_8', 'FLAG_DOCUMENT_9', 'FLAG_DOCUMENT_10', 'FLAG_DOCUMENT_11', 'FLAG_DOCUMENT_12', 'FLAG_DOCUMENT_13', 'FLAG_DOCUMENT_14', 'FLAG_DOCUMENT_15', 'FLAG_DOCUMENT_16', 'FLAG_DOCUMENT_17', 'FLAG_DOCUMENT_18', 'FLAG_DOCUMENT_19', 'FLAG_DOCUMENT_20', 'FLAG_DOCUMENT_21', 'AMT_REQ_CREDIT_BUREAU_HOUR', 'AMT_REQ_CREDIT_BUREAU_DAY', 'AMT_REQ_CREDIT_BUREAU_WEEK', 'AMT_REQ_CREDIT_BUREAU_QRT', 'NAME_CONTRACT_TYPE', 'CODE_GENDER', 'FLAG_OWN_CAR', 'FLAG_OWN_REALTY', 'NAME_TYPE_SUITE', 'NAME_INCOME_TYPE', 'NAME_EDUCATION_TYPE', 'NAME_FAMILY_STATUS', 'NAME_HOUSING_TYPE', 'OCCUPATION_TYPE', 'WEEKDAY_APPR_PROCESS_START', 'ORGANIZATION_TYPE', 'FONDKAPREMONT_MODE', 'HOUSETYPE_MODE', 'WALLSMATERIAL_MODE', 'EMERGENCYSTATE_MODE']\n",
    "for col in tqdm(cat_cols, total=len(cat_cols)):\n",
    "    for value in tqdm(test_df[col].unique()):\n",
    "        test_df[f'dummy_{col}_{value}'] = 0\n",
    "        test_df.loc[test_df[col]==value, f'dummy_{col}_{value}'] = 1"
   ]
  },
  {
   "cell_type": "code",
   "execution_count": 39,
   "id": "d338f3dd-ba60-467f-bc92-d2a16c40af60",
   "metadata": {},
   "outputs": [],
   "source": [
    "### prediction ###\n",
    "models = joblib.load('big_data/dump/models.pkl')\n",
    "num_cols = joblib.load('big_data/dump/num_cols.pkl')\n",
    "dummy_cols = joblib.load('big_data/dump/dummy_cols.pkl')\n",
    "\n",
    "for col in dummy_cols:\n",
    "    if col not in test_df.columns:\n",
    "        test_df[col] = 0\n",
    "\n",
    "y_pred = np.zeros(test_df.shape[0])\n",
    "for model in models:\n",
    "    y_pred += model.predict_proba(test_df[num_cols+dummy_cols])[:, 1]/len(models)\n",
    "\n",
    "test_df['TARGET'] = y_pred\n",
    "test_df[['SK_ID_CURR', 'TARGET']].to_csv('big_data/dump/submission.csv', index=False)"
   ]
  },
  {
   "cell_type": "code",
   "execution_count": null,
   "id": "d5a24cfb-e915-49a2-9978-42828f67f173",
   "metadata": {},
   "outputs": [],
   "source": []
  }
 ],
 "metadata": {
  "kernelspec": {
   "display_name": "Python 3 (ipykernel)",
   "language": "python",
   "name": "python3"
  },
  "language_info": {
   "codemirror_mode": {
    "name": "ipython",
    "version": 3
   },
   "file_extension": ".py",
   "mimetype": "text/x-python",
   "name": "python",
   "nbconvert_exporter": "python",
   "pygments_lexer": "ipython3",
   "version": "3.9.13"
  }
 },
 "nbformat": 4,
 "nbformat_minor": 5
}
