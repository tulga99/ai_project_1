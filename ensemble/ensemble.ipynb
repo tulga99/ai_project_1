{
 "cells": [
  {
   "cell_type": "code",
   "execution_count": 1,
   "id": "69508635-dd3d-44d3-996a-0e59328b30e1",
   "metadata": {},
   "outputs": [],
   "source": [
    "import pandas as pd\n",
    "import numpy as np\n",
    "from sklearn.metrics import mean_squared_error\n",
    "from sklearn.linear_model import LinearRegression\n",
    "from sklearn.svm import SVR\n",
    "from sklearn.tree import DecisionTreeRegressor\n",
    "from sklearn.ensemble import RandomForestRegressor\n",
    "from sklearn.model_selection import train_test_split"
   ]
  },
  {
   "cell_type": "markdown",
   "id": "23ff19f2-c6f3-4c9f-a7d7-a33e6cefb712",
   "metadata": {},
   "source": [
    "# data"
   ]
  },
  {
   "cell_type": "code",
   "execution_count": 2,
   "id": "979d1530-d733-4214-8fdc-23355aaf8950",
   "metadata": {},
   "outputs": [],
   "source": [
    "train_df = pd.read_csv('../big_data/train.csv')"
   ]
  },
  {
   "cell_type": "code",
   "execution_count": 3,
   "id": "85d7e5cd-5804-44d2-8800-482d12e0f92a",
   "metadata": {},
   "outputs": [],
   "source": [
    "input_cols = ['GrLivArea', 'YearBuilt']\n",
    "target = 'SalePrice'\n",
    "train_df[target] = np.log(train_df[target])"
   ]
  },
  {
   "cell_type": "code",
   "execution_count": 4,
   "id": "28e598a0-c500-4686-9b14-5f3f4711278f",
   "metadata": {},
   "outputs": [],
   "source": [
    "train_set, test_set = train_test_split(train_df, test_size=0.2,\n",
    "                                       shuffle=True, random_state=42)"
   ]
  },
  {
   "cell_type": "markdown",
   "id": "6d1f37c0-6f97-41d6-b865-5d9e03ff6af6",
   "metadata": {},
   "source": [
    "# model training"
   ]
  },
  {
   "cell_type": "code",
   "execution_count": 5,
   "id": "c760f4f8-cfde-4229-bfb0-374abc8b8078",
   "metadata": {},
   "outputs": [],
   "source": [
    "metrics = {'linear_reg':[],\n",
    "           'svr':[],\n",
    "           'dt':[]}\n",
    "\n",
    "models = [LinearRegression(), DecisionTreeRegressor(), SVR()]\n",
    "\n",
    "model_names = ['linear_reg', 'svr', 'dt',]\n",
    "preds = {}\n",
    "oofs = []\n",
    "for name, model in zip(model_names, models):\n",
    "    reg = model.fit(train_set[input_cols], train_set[target])\n",
    "    oofs.append(reg.predict(train_set[input_cols]))\n",
    "    pred = reg.predict(test_set[input_cols])\n",
    "    score = mean_squared_error(test_set[target], pred)\n",
    "    metrics[name].append(score)\n",
    "    preds[name] = pred"
   ]
  },
  {
   "cell_type": "code",
   "execution_count": 6,
   "id": "454981e1-78d3-4677-91d5-8bcb9eaafd69",
   "metadata": {},
   "outputs": [
    {
     "name": "stdout",
     "output_type": "stream",
     "text": [
      "Model linear_reg: 0.052\n",
      "Model svr: 0.063\n",
      "Model dt: 0.054\n"
     ]
    }
   ],
   "source": [
    "#### result ####\n",
    "for name in metrics.keys():\n",
    "    print(f'Model {name}:', np.round(np.mean(metrics[name]), 3))"
   ]
  },
  {
   "cell_type": "markdown",
   "id": "a54c4598-772b-4ee9-aa1e-eabff4fce586",
   "metadata": {},
   "source": [
    "# Ensemble"
   ]
  },
  {
   "cell_type": "code",
   "execution_count": 7,
   "id": "f73e4ff1-4776-45f4-b274-047edcf0f199",
   "metadata": {},
   "outputs": [
    {
     "name": "stdout",
     "output_type": "stream",
     "text": [
      "Blending: 0.048\n"
     ]
    }
   ],
   "source": [
    "### blending ####\n",
    "weights = [0.4, 0.2, 0.4]\n",
    "\n",
    "final_pred = None\n",
    "for i, name in enumerate(model_names):\n",
    "    if i==0:\n",
    "        final_pred = weights[i]*preds[name]\n",
    "    else:\n",
    "        final_pred = final_pred + weights[i]*preds[name]\n",
    "\n",
    "score = mean_squared_error(test_set[target], final_pred)\n",
    "print(f'Blending:', np.round(np.mean(score), 3))"
   ]
  },
  {
   "cell_type": "markdown",
   "id": "a203268e-c78a-4383-8132-8a3d22214a7a",
   "metadata": {},
   "source": [
    "# Stacked Ensemble"
   ]
  },
  {
   "cell_type": "code",
   "execution_count": 9,
   "id": "8a23d1aa-b294-4208-ad33-b5c388ee0c12",
   "metadata": {},
   "outputs": [
    {
     "name": "stdout",
     "output_type": "stream",
     "text": [
      "Stacking: 0.063\n"
     ]
    }
   ],
   "source": [
    "### stacking ####\n",
    "stacking_model = LinearRegression()\n",
    "X_pred = np.asarray(oofs).T\n",
    "X_test_pred = np.zeros((test_set.shape[0], 3))\n",
    "for i, name in enumerate(model_names):\n",
    "    X_test_pred[:, i] = preds[name]\n",
    "\n",
    "reg = stacking_model.fit(X_pred, train_set[target])\n",
    "pred_stack = reg.predict(X_test_pred)\n",
    "\n",
    "score = mean_squared_error(test_set[target], pred_stack)\n",
    "print(f'Stacking:', np.round(np.mean(score), 3))"
   ]
  },
  {
   "cell_type": "code",
   "execution_count": 10,
   "id": "c861d4aa-9351-4d74-bdf1-5d14d3a80d8d",
   "metadata": {},
   "outputs": [],
   "source": [
    "# ensemble \n",
    "#### bagging ###\n",
    "bagging = 5\n",
    "\n",
    "metrics = {'linear_reg': [],\n",
    "           'svr': [],\n",
    "           'dt': []}\n",
    "\n",
    "models = [LinearRegression(), DecisionTreeRegressor(),   SVR()]\n",
    "model_names = ['linear_reg', 'svr', 'dt', ]\n",
    "preds = {}\n",
    "\n",
    "for i in range(bagging):\n",
    "    frac = np.random.randint(80, 90)\n",
    "    train_ = train_set.sample(int(train_set.shape[0]*frac/100))\n",
    "    for name, model in zip(model_names, models):\n",
    "        reg = model.fit(train_[input_cols], train_[target])\n",
    "        pred = reg.predict(test_set[input_cols])\n",
    "        score = mean_squared_error(test_set[target], pred)\n",
    "        metrics[name].append(score)\n",
    "        if i==0:\n",
    "            preds[name] = pred/bagging\n",
    "        else:\n",
    "            preds[name] += pred / bagging"
   ]
  },
  {
   "cell_type": "code",
   "execution_count": 11,
   "id": "0a9383fc-d818-4ab1-bafc-2b79c084d1a5",
   "metadata": {},
   "outputs": [
    {
     "name": "stdout",
     "output_type": "stream",
     "text": [
      "Model linear_reg: 0.052\n",
      "Model svr: 0.077\n",
      "Model dt: 0.055\n",
      "Bagging and Blending: 0.049\n"
     ]
    }
   ],
   "source": [
    "#### result ####\n",
    "for name in metrics.keys():\n",
    "    print(f'Model {name}:', np.round(np.mean(metrics[name]), 3))\n",
    "\n",
    "weights = [0.4, 0.2, 0.4]\n",
    "\n",
    "final_pred = None\n",
    "for i, name in enumerate(model_names):\n",
    "    if i==0:\n",
    "        final_pred = weights[i]*preds[name]\n",
    "    else:\n",
    "        final_pred = final_pred + weights[i]*preds[name]\n",
    "\n",
    "score = mean_squared_error(test_set[target], final_pred)\n",
    "print(f'Bagging and Blending:', np.round(np.mean(score), 3))"
   ]
  },
  {
   "cell_type": "code",
   "execution_count": null,
   "id": "1271b5e0-505c-4ffa-8318-7a231c95dd5f",
   "metadata": {},
   "outputs": [],
   "source": []
  }
 ],
 "metadata": {
  "kernelspec": {
   "display_name": "Python 3 (ipykernel)",
   "language": "python",
   "name": "python3"
  },
  "language_info": {
   "codemirror_mode": {
    "name": "ipython",
    "version": 3
   },
   "file_extension": ".py",
   "mimetype": "text/x-python",
   "name": "python",
   "nbconvert_exporter": "python",
   "pygments_lexer": "ipython3",
   "version": "3.9.13"
  }
 },
 "nbformat": 4,
 "nbformat_minor": 5
}
