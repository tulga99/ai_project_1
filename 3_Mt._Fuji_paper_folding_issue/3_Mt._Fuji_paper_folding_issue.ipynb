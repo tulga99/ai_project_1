{
 "cells": [
  {
   "cell_type": "markdown",
   "id": "aabfbc65-c2a4-487d-a89c-8614d7c291d6",
   "metadata": {},
   "source": [
    "# [Problem 1] How many times to fold paper to exceed the height of Mt.Fuji?"
   ]
  },
  {
   "cell_type": "code",
   "execution_count": 10,
   "id": "e86cb591-a379-4741-8412-020a4aa3429b",
   "metadata": {},
   "outputs": [
    {
     "name": "stdout",
     "output_type": "stream",
     "text": [
      "26\n"
     ]
    }
   ],
   "source": [
    "thickness = 0.00008\n",
    "mt_height = 3776\n",
    "current_height = thickness\n",
    "numbers_of_fold = 0\n",
    "while(current_height < mt_height):\n",
    "    current_height = current_height * 2\n",
    "    numbers_of_fold +=1\n",
    "print(numbers_of_fold)"
   ]
  },
  {
   "cell_type": "markdown",
   "id": "836f7c0b-4c95-4f3c-a405-a738eeaa2b9a",
   "metadata": {},
   "source": [
    "# [Problem 2] Function corresponding to arbitrary thickness"
   ]
  },
  {
   "cell_type": "code",
   "execution_count": 15,
   "id": "5c6ee476-7757-49f8-8514-08dbb5ea6f23",
   "metadata": {},
   "outputs": [
    {
     "name": "stdout",
     "output_type": "stream",
     "text": [
      "26\n"
     ]
    }
   ],
   "source": [
    "import math\n",
    "def calculate_folds(height, thickness=0.00008):\n",
    "    \"\"\"\n",
    "    A function that calculates number of folds that can be higher than a given height.\n",
    "\n",
    "    Parameters\n",
    "    ----------\n",
    "    height: float\n",
    "        a given height of object\n",
    "    thickness: float\n",
    "        paper thickness (default=0.00008)\n",
    "\n",
    "    Returns\n",
    "    -------\n",
    "    minimum_number_of_folds: int\n",
    "        the number of folds that can be higher than a given height\n",
    "    \"\"\"\n",
    "    \n",
    "    # folds = math.ceil(math.log2(height/thickness))\n",
    "    current_height = thickness\n",
    "    folds_count = 0\n",
    "    while current_height < height:\n",
    "        current_height = current_height * 2\n",
    "        folds_count += 1\n",
    "    return folds_count\n",
    "\n",
    "print(calculate_folds(3667))"
   ]
  },
  {
   "cell_type": "code",
   "execution_count": 20,
   "id": "ae641c56-73aa-4940-9707-9786b831b154",
   "metadata": {},
   "outputs": [
    {
     "name": "stdout",
     "output_type": "stream",
     "text": [
      "69 folds needed to go higher than 4.0175e+16 meters\n"
     ]
    }
   ],
   "source": [
    "# test\n",
    "height = 4.0175*(10**16)\n",
    "folds = calculate_folds(height)\n",
    "print(f\"{folds} folds needed to go higher than {height} meters\")"
   ]
  },
  {
   "cell_type": "markdown",
   "id": "4d549e2b-8ac6-4d6d-a2f0-1a2f1a2c2280",
   "metadata": {},
   "source": [
    "# [Problem 3] Required paper length"
   ]
  },
  {
   "cell_type": "code",
   "execution_count": 23,
   "id": "dfe81461-4b99-4182-8c40-47c2f508ecdc",
   "metadata": {},
   "outputs": [
    {
     "name": "stdout",
     "output_type": "stream",
     "text": [
      "0.0002513274122871835\n"
     ]
    }
   ],
   "source": [
    "import math\n",
    "def calculate_paper_size(number_of_fold, thickness=0.00008):\n",
    "    \"\"\"\n",
    "    A function that calculates the paper size using a given number of folds\n",
    "\n",
    "    Parameters\n",
    "    ----------\n",
    "    number_of_fold: int\n",
    "        a given number of folds\n",
    "    thickness: float\n",
    "        paper thickness (default=0.00008)\n",
    "\n",
    "    Returns\n",
    "    -------\n",
    "    paper_size: float\n",
    "        the size of paper needed to be fold by given time\n",
    "    \"\"\"\n",
    "    \n",
    "    pi = math.pi\n",
    "    paper_size = ((pi*thickness)/6)*(2**number_of_fold+4)*(2**number_of_fold-1)\n",
    "    return paper_size\n",
    "paper_size = calculate_paper_size(1)\n",
    "print(paper_size)"
   ]
  },
  {
   "cell_type": "code",
   "execution_count": 27,
   "id": "98d98faa-f53d-40d6-b4e7-018360bf7746",
   "metadata": {},
   "outputs": [
    {
     "name": "stdout",
     "output_type": "stream",
     "text": [
      "3.240919444170781e+21 m sized paper needed to be folded by 43 times to reach moon\n"
     ]
    }
   ],
   "source": [
    "### reach moon\n",
    "paper_size = calculate_paper_size(43)\n",
    "print(f\"{paper_size} m sized paper needed to be folded by 43 times to reach moon\")"
   ]
  },
  {
   "cell_type": "code",
   "execution_count": 28,
   "id": "2c1a6a04-6d65-4910-8f63-20071d1b8583",
   "metadata": {},
   "outputs": [
    {
     "name": "stdout",
     "output_type": "stream",
     "text": [
      "188646348487.24017 m sized paper needed to be folded by 26 times to reach mt fuji\n"
     ]
    }
   ],
   "source": [
    "### reach mt fuji\n",
    "paper_size = calculate_paper_size(26)\n",
    "print(f\"{paper_size} m sized paper needed to be folded by 26 times to reach mt fuji\")"
   ]
  },
  {
   "cell_type": "code",
   "execution_count": 29,
   "id": "3ca96c9f-ca22-49db-9ae3-4e66932f21ec",
   "metadata": {},
   "outputs": [
    {
     "name": "stdout",
     "output_type": "stream",
     "text": [
      "1.4595803601100348e+37 m sized paper needed to be folded by 69 times to reach closest star to sun\n"
     ]
    }
   ],
   "source": [
    "### reach closest star to sun\n",
    "paper_size = calculate_paper_size(69)\n",
    "print(f\"{paper_size} m sized paper needed to be folded by 69 times to reach closest star to sun\")"
   ]
  },
  {
   "cell_type": "code",
   "execution_count": 31,
   "id": "3c31596a-f9ac-4c5f-ae8f-cb066c38146b",
   "metadata": {},
   "outputs": [],
   "source": [
    "import math\n",
    "def calculate_paper_size_by_height(height, thickness=0.00008):\n",
    "    \"\"\"\n",
    "    A function that calculates the paper size using a given number of folds\n",
    "\n",
    "    Parameters\n",
    "    ----------\n",
    "    height: float\n",
    "        a given height\n",
    "    thickness: float\n",
    "        paper thickness (default=0.00008)\n",
    "\n",
    "    Returns\n",
    "    -------\n",
    "    paper_size: float\n",
    "        the size of paper needed to be fold by given time\n",
    "    \"\"\"\n",
    "    ## finding fold count\n",
    "    current_height = thickness\n",
    "    folds_count = 0\n",
    "    while current_height < height:\n",
    "        current_height = current_height * 2\n",
    "        folds_count += 1\n",
    "    ## finding paper size\n",
    "    pi = math.pi\n",
    "    paper_size = ((pi*thickness)/6)*(2**folds_count+4)*(2**folds_count-1)\n",
    "    return paper_size"
   ]
  },
  {
   "cell_type": "code",
   "execution_count": 32,
   "id": "fdd5736d-7b74-457e-a2c2-eaf29a244786",
   "metadata": {},
   "outputs": [
    {
     "name": "stdout",
     "output_type": "stream",
     "text": [
      "188646348487.24017 sized paper needs to be folded to go higher than mt fuji with height of 3776\n"
     ]
    }
   ],
   "source": [
    "## reach mt fuji\n",
    "mt_height = 3776\n",
    "size = calculate_paper_size_by_height(mt_height)\n",
    "print(f\"{size} sized paper needs to be folded to go higher than mt fuji with height of {mt_height}\")\n"
   ]
  },
  {
   "cell_type": "code",
   "execution_count": 33,
   "id": "84579a34-aad3-4e93-a48c-226a00d2d350",
   "metadata": {},
   "outputs": [
    {
     "name": "stdout",
     "output_type": "stream",
     "text": [
      "1.4595803601100348e+37 sized paper needs to be folded to go higher than Proxima Centauri with height of 4.0175e+16\n"
     ]
    }
   ],
   "source": [
    "## reach Proxima Centauri\n",
    "height = 4.0175*(10**16)\n",
    "size = calculate_paper_size_by_height(height)\n",
    "print(f\"{size} sized paper needs to be folded to go higher than Proxima Centauri with height of {height}\")"
   ]
  },
  {
   "cell_type": "code",
   "execution_count": 34,
   "id": "32dfb10d-e751-4b56-a08f-34fab69f892d",
   "metadata": {},
   "outputs": [
    {
     "name": "stdout",
     "output_type": "stream",
     "text": [
      "3.240919444170781e+21 sized paper needs to be folded to go higher than moon with height of 384400000.0\n"
     ]
    }
   ],
   "source": [
    "## reach moon\n",
    "height = 3.844*(10**8)\n",
    "size = calculate_paper_size_by_height(height)\n",
    "print(f\"{size} sized paper needs to be folded to go higher than moon with height of {height}\")"
   ]
  },
  {
   "cell_type": "code",
   "execution_count": null,
   "id": "644cbfec-b9ac-431c-831e-a14c0835f371",
   "metadata": {},
   "outputs": [],
   "source": []
  }
 ],
 "metadata": {
  "kernelspec": {
   "display_name": "Python 3 (ipykernel)",
   "language": "python",
   "name": "python3"
  },
  "language_info": {
   "codemirror_mode": {
    "name": "ipython",
    "version": 3
   },
   "file_extension": ".py",
   "mimetype": "text/x-python",
   "name": "python",
   "nbconvert_exporter": "python",
   "pygments_lexer": "ipython3",
   "version": "3.9.13"
  }
 },
 "nbformat": 4,
 "nbformat_minor": 5
}
