{
 "cells": [
  {
   "cell_type": "code",
   "execution_count": 1,
   "id": "ece64b49-1d36-4f5f-8c52-5bda61c369f4",
   "metadata": {},
   "outputs": [],
   "source": [
    "import math"
   ]
  },
  {
   "cell_type": "code",
   "execution_count": 2,
   "id": "9c357942-6ed8-4a84-9779-9b15a40609be",
   "metadata": {},
   "outputs": [],
   "source": [
    "## solar system volume with formula (4/3) * π * r^3\n",
    "ss_volume = 1.4024370930437007 * (10**31)"
   ]
  },
  {
   "cell_type": "code",
   "execution_count": 3,
   "id": "94d1d8e8-b25c-4548-aba7-49610e1b344c",
   "metadata": {},
   "outputs": [
    {
     "name": "stdout",
     "output_type": "stream",
     "text": [
      "1.4024370930437007e+31\n"
     ]
    }
   ],
   "source": [
    "print(ss_volume)"
   ]
  },
  {
   "cell_type": "code",
   "execution_count": 4,
   "id": "48ab29ce-26f3-4fb1-bbb1-4be4e6e0a3a2",
   "metadata": {},
   "outputs": [],
   "source": [
    "## chestnut bun volume with formula π * (d/2)^2 * h\n",
    "## calculated by average chestnut size diameter 7cm, height 5.5cm\n",
    "cn_volume = 211.6648050356123"
   ]
  },
  {
   "cell_type": "code",
   "execution_count": 9,
   "id": "6ae97a8c-0f8e-4123-ad5d-d29c696b66f0",
   "metadata": {},
   "outputs": [],
   "source": [
    "def calculate_duration(elem_vol, area_vol):\n",
    "    \"\"\"\n",
    "    A function that calculates duration of given elem_volume grow and cover full area_vol\n",
    "\n",
    "    Parameters\n",
    "    ----------\n",
    "    elem_vol: float\n",
    "        a given volume of element\n",
    "    area_vol: float\n",
    "        a given volume of area\n",
    "\n",
    "    Returns\n",
    "    -------\n",
    "    duration: float\n",
    "        total seconds of given element fully grown and cover area\n",
    "    \"\"\"\n",
    "    \n",
    "    seconds = 0\n",
    "    current_volume = elem_vol\n",
    "    while current_volume < area_vol:\n",
    "        current_volume *= 2\n",
    "        seconds += 5 * 60\n",
    "    return seconds"
   ]
  },
  {
   "cell_type": "code",
   "execution_count": 10,
   "id": "448f2d4a-90ce-45cd-a75d-8a630b77e1e9",
   "metadata": {},
   "outputs": [
    {
     "data": {
      "text/plain": [
       "28800"
      ]
     },
     "execution_count": 10,
     "metadata": {},
     "output_type": "execute_result"
    }
   ],
   "source": [
    "calculate_duration(cn_volume, ss_volume)"
   ]
  },
  {
   "cell_type": "code",
   "execution_count": 11,
   "id": "bec25ba1-bf34-418f-b04a-98b1b52cad28",
   "metadata": {},
   "outputs": [
    {
     "name": "stdout",
     "output_type": "stream",
     "text": [
      "Simple chestnut bun /volume 211.6648050356123/ with double growth in every 5 minutes and fully covers area of solar system /1.4024370930437007e+31/ duration is 28800 seconds\n"
     ]
    }
   ],
   "source": [
    "duration = calculate_duration(cn_volume, ss_volume)\n",
    "print(f\"Simple chestnut bun /volume {cn_volume}/ with double growth in every 5 minutes and fully covers area of solar system /{ss_volume}/ duration is {duration} seconds\")"
   ]
  },
  {
   "cell_type": "code",
   "execution_count": 12,
   "id": "872b1895-07dd-46e3-b441-c364e7d29e58",
   "metadata": {},
   "outputs": [
    {
     "name": "stdout",
     "output_type": "stream",
     "text": [
      "Simple chestnut bun /volume 211.6648050356123/ with double growth in every 5 minutes and fully covers area of solar system /1.4024370930437007e+31/ duration is 480.0 minutes\n"
     ]
    }
   ],
   "source": [
    "duration = calculate_duration(cn_volume, ss_volume)\n",
    "print(f\"Simple chestnut bun /volume {cn_volume}/ with double growth in every 5 minutes and fully covers area of solar system /{ss_volume}/ duration is {duration/60} minutes\")"
   ]
  },
  {
   "cell_type": "code",
   "execution_count": 13,
   "id": "3567cb35-d8b4-40a1-9139-0766ae3d94d2",
   "metadata": {},
   "outputs": [
    {
     "name": "stdout",
     "output_type": "stream",
     "text": [
      "Simple chestnut bun /volume 211.6648050356123/ with double growth in every 5 minutes and fully covers area of solar system /1.4024370930437007e+31/ duration is 8.0 hours\n"
     ]
    }
   ],
   "source": [
    "duration = calculate_duration(cn_volume, ss_volume)\n",
    "print(f\"Simple chestnut bun /volume {cn_volume}/ with double growth in every 5 minutes and fully covers area of solar system /{ss_volume}/ duration is {duration/60/60} hours\")"
   ]
  },
  {
   "cell_type": "code",
   "execution_count": 14,
   "id": "22fe176a-1b3e-41d5-94b5-091b3f8f70c3",
   "metadata": {},
   "outputs": [
    {
     "name": "stdout",
     "output_type": "stream",
     "text": [
      "Simple chestnut bun /volume 211.6648050356123/ with double growth in every 5 minutes and fully covers area of solar system /1.4024370930437007e+31/ duration is 0.3333333333333333 days\n"
     ]
    }
   ],
   "source": [
    "duration = calculate_duration(cn_volume, ss_volume)\n",
    "print(f\"Simple chestnut bun /volume {cn_volume}/ with double growth in every 5 minutes and fully covers area of solar system /{ss_volume}/ duration is {duration/60/60/24} days\")"
   ]
  },
  {
   "cell_type": "code",
   "execution_count": 16,
   "id": "9b70c20f-8f6a-4e6d-a871-9dc62dd98ba2",
   "metadata": {},
   "outputs": [],
   "source": [
    "def calculate_duration(elem_vol, area_vol, unit):\n",
    "    \"\"\"\n",
    "    A function that calculates duration of given elem_volume grow and cover full area_vol\n",
    "\n",
    "    Parameters\n",
    "    ----------\n",
    "    elem_vol: float\n",
    "        a given volume of element\n",
    "    area_vol: float\n",
    "        a given volume of area\n",
    "    unit: str\n",
    "        response unit duration\n",
    "\n",
    "    Returns\n",
    "    -------\n",
    "    duration: float\n",
    "        total seconds of given element fully grown and cover area\n",
    "    \"\"\"\n",
    "    \n",
    "    seconds = 0\n",
    "    current_volume = elem_vol\n",
    "    while current_volume < area_vol:\n",
    "        current_volume *= 2\n",
    "        seconds += 5 * 60\n",
    "\n",
    "    if unit == \"day\":\n",
    "        return seconds / 60 / 60 / 24\n",
    "    if unit == \"hour\":\n",
    "        return seconds / 60 / 60 \n",
    "    if unit == \"minute\":\n",
    "        return seconds / 60\n",
    "    if unit == \"second\":\n",
    "        return seconds"
   ]
  },
  {
   "cell_type": "code",
   "execution_count": 19,
   "id": "81bab1df-91a1-4da3-a3b2-779b250ce64a",
   "metadata": {},
   "outputs": [
    {
     "name": "stdout",
     "output_type": "stream",
     "text": [
      "Simple chestnut bun /volume 211.6648050356123/ with double growth in every 5 minutes and fully covers area of solar system /1.4024370930437007e+31/ duration is 8.0 hour\n"
     ]
    }
   ],
   "source": [
    "unit = \"hour\"\n",
    "duration = calculate_duration(cn_volume, ss_volume, unit)\n",
    "print(f\"Simple chestnut bun /volume {cn_volume}/ with double growth in every 5 minutes and fully covers area of solar system /{ss_volume}/ duration is {duration} {unit}\")"
   ]
  },
  {
   "cell_type": "code",
   "execution_count": null,
   "id": "3f0877bf-ee87-4fca-b615-6ac028cd3724",
   "metadata": {},
   "outputs": [],
   "source": []
  }
 ],
 "metadata": {
  "kernelspec": {
   "display_name": "Python 3 (ipykernel)",
   "language": "python",
   "name": "python3"
  },
  "language_info": {
   "codemirror_mode": {
    "name": "ipython",
    "version": 3
   },
   "file_extension": ".py",
   "mimetype": "text/x-python",
   "name": "python",
   "nbconvert_exporter": "python",
   "pygments_lexer": "ipython3",
   "version": "3.9.13"
  }
 },
 "nbformat": 4,
 "nbformat_minor": 5
}
